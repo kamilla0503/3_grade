{
 "cells": [
  {
   "cell_type": "code",
   "execution_count": 2,
   "metadata": {
    "collapsed": true
   },
   "outputs": [],
   "source": [
    "import numpy as np\n",
    "import matplotlib\n",
    "import matplotlib.pyplot as plt\n",
    "\n",
    "# для отображения статических графиков прямо в ноутбуке\n",
    "%matplotlib inline"
   ]
  },
  {
   "cell_type": "code",
   "execution_count": 6,
   "metadata": {
    "collapsed": false
   },
   "outputs": [],
   "source": [
    "arr = np.loadtxt('stockholm_td_adj_dat.txt')"
   ]
  },
  {
   "cell_type": "code",
   "execution_count": 9,
   "metadata": {
    "collapsed": false
   },
   "outputs": [
    {
     "name": "stdout",
     "output_type": "stream",
     "text": [
      "[array([  1.80000000e+03,   1.00000000e+00,   1.00000000e+00,\n",
      "        -6.10000000e+00,  -6.10000000e+00,  -6.10000000e+00,\n",
      "         1.00000000e+00])]\n"
     ]
    }
   ],
   "source": [
    "print([arr[0]])"
   ]
  },
  {
   "cell_type": "code",
   "execution_count": 18,
   "metadata": {
    "collapsed": false
   },
   "outputs": [
    {
     "name": "stdout",
     "output_type": "stream",
     "text": [
      "5\n",
      "[[  1.80000000e+03   5.00000000e+00   1.00000000e+00 ...,   6.20000000e+00\n",
      "    6.20000000e+00   1.00000000e+00]\n",
      " [  1.80000000e+03   5.00000000e+00   2.00000000e+00 ...,   7.20000000e+00\n",
      "    7.20000000e+00   1.00000000e+00]\n",
      " [  1.80000000e+03   5.00000000e+00   3.00000000e+00 ...,   1.20000000e+01\n",
      "    1.20000000e+01   1.00000000e+00]\n",
      " ..., \n",
      " [  2.01100000e+03   5.00000000e+00   2.90000000e+01 ...,   1.14000000e+01\n",
      "    1.14000000e+01   1.00000000e+00]\n",
      " [  2.01100000e+03   5.00000000e+00   3.00000000e+01 ...,   1.48000000e+01\n",
      "    1.48000000e+01   1.00000000e+00]\n",
      " [  2.01100000e+03   5.00000000e+00   3.10000000e+01 ...,   1.64000000e+01\n",
      "    1.64000000e+01   1.00000000e+00]]\n",
      "31\n"
     ]
    }
   ],
   "source": [
    "mouth = int(input())\n",
    "mins=[]\n",
    "maxs=[]\n",
    "means = [] \n",
    "days=[]\n",
    "datas = arr[arr[:, 1]==mouth]\n",
    "print(datas)\n",
    "maxday = int(np.max(datas[:,2]) )\n",
    "print(maxday)\n",
    "for i in range(1, maxday+1):\n",
    "    current = datas[datas[:,2]==i]\n",
    "    means.append(np.mean(current[:, 3]))\n",
    "    mins.append(np.min(current[:, 3]))\n",
    "    maxs.append(np.max(current[:, 3]))\n",
    "    days.append(i)\n",
    "\n",
    "    "
   ]
  },
  {
   "cell_type": "code",
   "execution_count": 29,
   "metadata": {
    "collapsed": false
   },
   "outputs": [
    {
     "name": "stdout",
     "output_type": "stream",
     "text": [
      "[-1.2 -0.9 -0.8 -0.3  0.3  0.9 -0.5 -2.6 -0.7 -0.4  0.6 -1.3 -2.3 -0.1  0.9\n",
      "  0.9  1.6  0.5  1.6  2.3  1.9  1.6  1.4  0.3  1.1  1.3  2.5  3.6  3.5  2.4\n",
      "  2.7]\n"
     ]
    }
   ],
   "source": [
    "newdata = datas[:, 3].reshape(-1, maxday)\n",
    "mini = np.min(newdata, axis = 0)\n",
    "maxi = np.max(newdata, axis = 0)\n",
    "meani = np.mean(newdata, axis = 0)\n",
    "print(mini)"
   ]
  },
  {
   "cell_type": "code",
   "execution_count": 31,
   "metadata": {
    "collapsed": false
   },
   "outputs": [
    {
     "data": {
      "text/plain": [
       "<matplotlib.legend.Legend at 0x6fb2e3e160>"
      ]
     },
     "execution_count": 31,
     "metadata": {},
     "output_type": "execute_result"
    },
    {
     "data": {
      "image/png": "[encoded data removed]",
      "text/plain": [
       "<matplotlib.figure.Figure at 0x6fb2b07550>"
      ]
     },
     "metadata": {},
     "output_type": "display_data"
    }
   ],
   "source": [
    "ticks = np.array(days)\n",
    "plt.xticks(ticks);\n",
    "\n",
    "plt.gca().set_xticklabels(ticks, horizontalalignment='left', rotation=-45)\n",
    "\n",
    "plt.plot(days, meani, \"-\", label=\"Mean values\")\n",
    "plt.plot(days, mini, \".\", label=\"Minimal values\")\n",
    "plt.plot(days, maxi, \",\", label=\"Maximal values\")\n",
    "plt.xlabel('Day')\n",
    "plt.ylabel('T')\n",
    "plt.title('Temterature in Stockholm')\n",
    "\n",
    "plt.legend(loc='upper right', ncol=1)"
   ]
  },
  {
   "cell_type": "code",
   "execution_count": 32,
   "metadata": {
    "collapsed": true
   },
   "outputs": [],
   "source": [
    "import numpy.random as npr"
   ]
  },
  {
   "cell_type": "code",
   "execution_count": 50,
   "metadata": {
    "collapsed": false
   },
   "outputs": [
    {
     "name": "stdout",
     "output_type": "stream",
     "text": [
      "(777, 2)\n"
     ]
    }
   ],
   "source": [
    "#nodes = npr.rand(500, 2)\n",
    "nodes= np.random.uniform(-1,1,(1000,2))\n",
    "\n",
    "nodes.shape \n",
    "\n",
    "newnodes=nodes[nodes[:,1]**2+ nodes[:,0]**2<=1]\n",
    "print(newnodes.shape)"
   ]
  },
  {
   "cell_type": "code",
   "execution_count": 51,
   "metadata": {
    "collapsed": false
   },
   "outputs": [
    {
     "data": {
      "text/plain": [
       "<matplotlib.collections.PathCollection at 0x6fb436e860>"
      ]
     },
     "execution_count": 51,
     "metadata": {},
     "output_type": "execute_result"
    },
    {
     "data": {
      "image/png": "[encoded data removed]",
      "text/plain": [
       "<matplotlib.figure.Figure at 0x6fb0336208>"
      ]
     },
     "metadata": {},
     "output_type": "display_data"
    }
   ],
   "source": [
    "plt.scatter(newnodes[:,0], newnodes[:,1],  cmap='RdBu')"
   ]
  },
  {
   "cell_type": "code",
   "execution_count": 52,
   "metadata": {
    "collapsed": false
   },
   "outputs": [],
   "source": [
    "\n",
    "from scipy.spatial import Delaunay\n",
    "tri = Delaunay(newnodes)"
   ]
  },
  {
   "cell_type": "code",
   "execution_count": 53,
   "metadata": {
    "collapsed": false
   },
   "outputs": [],
   "source": [
    "elems = tri.simplices"
   ]
  },
  {
   "cell_type": "code",
   "execution_count": 54,
   "metadata": {
    "collapsed": false
   },
   "outputs": [
    {
     "name": "stdout",
     "output_type": "stream",
     "text": [
      "(777,)\n"
     ]
    }
   ],
   "source": [
    "z = np.sin(newnodes[:,0]+newnodes[:,1])+np.absolute(newnodes[:,0]) + np.absolute(newnodes[:,1])\n",
    "print(z.shape)"
   ]
  },
  {
   "cell_type": "code",
   "execution_count": 55,
   "metadata": {
    "collapsed": false
   },
   "outputs": [
    {
     "data": {
      "text/plain": [
       "<matplotlib.tri.tricontour.TriContourSet at 0x6fb490dd68>"
      ]
     },
     "execution_count": 55,
     "metadata": {},
     "output_type": "execute_result"
    },
    {
     "data": {
      "image/png": "[encoded data removed]",
      "text/plain": [
       "<matplotlib.figure.Figure at 0x6fb4343470>"
      ]
     },
     "metadata": {},
     "output_type": "display_data"
    }
   ],
   "source": [
    "\n",
    "plt.tricontourf(newnodes[:,0], newnodes[:,1], elems, z)"
   ]
  },
  {
   "cell_type": "code",
   "execution_count": null,
   "metadata": {
    "collapsed": true
   },
   "outputs": [],
   "source": []
  }
 ],
 "metadata": {
  "kernelspec": {
   "display_name": "Python [Root]",
   "language": "python",
   "name": "Python [Root]"
  },
  "language_info": {
   "codemirror_mode": {
    "name": "ipython",
    "version": 3
   },
   "file_extension": ".py",
   "mimetype": "text/x-python",
   "name": "python",
   "nbconvert_exporter": "python",
   "pygments_lexer": "ipython3",
   "version": "3.5.2"
  }
 },
 "nbformat": 4,
 "nbformat_minor": 2
}
