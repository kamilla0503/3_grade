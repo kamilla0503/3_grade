{
 "cells": [
  {
   "cell_type": "code",
   "execution_count": 1,
   "metadata": {},
   "outputs": [],
   "source": [
    "import numpy as np "
   ]
  },
  {
   "cell_type": "code",
   "execution_count": 2,
   "metadata": {},
   "outputs": [
    {
     "name": "stdout",
     "output_type": "stream",
     "text": [
      "10.9 ms ± 772 µs per loop (mean ± std. dev. of 7 runs, 100 loops each)\n"
     ]
    }
   ],
   "source": [
    "#A = np.array([[1, 2, 3], [1,4,3], [0, 2,1], [2,2,1]])\n",
    "#B = np.array([[1,2], [1, 0], [3, 4]])\n",
    "A = np.random.rand(100,100)\n",
    "B = np.random.rand(100,100)\n",
    "def mult(A, B):\n",
    "    result = np.zeros((A.shape[0], B.shape[1]))\n",
    "    \n",
    "    for i in range(result.shape[0]):\n",
    "        for j in range(result.shape[1]):\n",
    "            #for d in range(A.shape[1]):\n",
    "                #result[i,j] = result[i,j] + A[i, d]*B[d,j]\n",
    "                \n",
    "     \n",
    "            result[i,j]= np.dot(A[i, :], B[:, j])\n",
    "          \n",
    "\n",
    "    return result\n",
    "\n",
    "%timeit mult(A, B)"
   ]
  },
  {
   "cell_type": "code",
   "execution_count": 3,
   "metadata": {},
   "outputs": [],
   "source": [
    "%load_ext cython"
   ]
  },
  {
   "cell_type": "code",
   "execution_count": null,
   "metadata": {},
   "outputs": [],
   "source": [
    "%%cython -a --compile-args=-fopenmp --link-args=-fopenmp\n",
    "\n",
    "import numpy as np\n",
    "cimport cython\n",
    "from cython.parallel cimport prange\n",
    "@cython.boundscheck(False)\n",
    "@cython.cdivision(True)\n",
    "def mult_1(double[:, ::1]  A, double[:, ::1] B):\n",
    "    cdef int Q,W,E, i, j, d\n",
    "    Q=A.shape[0]\n",
    "    W = B.shape[1]\n",
    "    E = A.shape[1]\n",
    "    #cdef double[:, ::1] result = np.zeros((A.shape[0], B.shape[1]), dtype=float)\n",
    "    cdef double[:, ::1] result = np.zeros((Q, W), dtype=float)\n",
    "    with nogil:    \n",
    "        for i in prange(Q):\n",
    "            for j in range(W):\n",
    "                #result[i,j] = result[i,j] + \n",
    "                for d in range(E):\n",
    "                    result[i,j] =result[i,j] + A[i, d]*B[d,j]\n",
    "          \n",
    "\n",
    "    return result\n",
    "\n"
   ]
  },
  {
   "cell_type": "code",
   "execution_count": 9,
   "metadata": {},
   "outputs": [
    {
     "name": "stdout",
     "output_type": "stream",
     "text": [
      "453 µs ± 24.7 µs per loop (mean ± std. dev. of 7 runs, 1000 loops each)\n"
     ]
    }
   ],
   "source": [
    "%timeit mult_1(A, B)"
   ]
  },
  {
   "cell_type": "code",
   "execution_count": 55,
   "metadata": {},
   "outputs": [
    {
     "data": {
      "text/plain": [
       "array([[ 0.00000000e+00,  3.55271368e-15, -3.55271368e-15, ...,\n",
       "        -7.10542736e-15, -3.55271368e-15, -3.55271368e-15],\n",
       "       [ 0.00000000e+00,  3.55271368e-15,  0.00000000e+00, ...,\n",
       "         0.00000000e+00,  0.00000000e+00, -1.42108547e-14],\n",
       "       [ 0.00000000e+00,  0.00000000e+00,  0.00000000e+00, ...,\n",
       "         0.00000000e+00,  0.00000000e+00, -1.42108547e-14],\n",
       "       ...,\n",
       "       [ 0.00000000e+00,  0.00000000e+00,  3.55271368e-15, ...,\n",
       "        -7.10542736e-15,  3.55271368e-15,  0.00000000e+00],\n",
       "       [-3.55271368e-15, -3.55271368e-15,  3.55271368e-15, ...,\n",
       "        -7.10542736e-15, -3.55271368e-15, -3.55271368e-15],\n",
       "       [ 0.00000000e+00, -3.55271368e-15,  0.00000000e+00, ...,\n",
       "         3.55271368e-15,  7.10542736e-15,  7.10542736e-15]])"
      ]
     },
     "execution_count": 55,
     "metadata": {},
     "output_type": "execute_result"
    }
   ],
   "source": [
    "np.dot(A, B) - mult_1(A, B)\n"
   ]
  },
  {
   "cell_type": "code",
   "execution_count": null,
   "metadata": {},
   "outputs": [],
   "source": []
  }
 ],
 "metadata": {
  "kernelspec": {
   "display_name": "Python 3",
   "language": "python",
   "name": "python3"
  },
  "language_info": {
   "codemirror_mode": {
    "name": "ipython",
    "version": 3
   },
   "file_extension": ".py",
   "mimetype": "text/x-python",
   "name": "python",
   "nbconvert_exporter": "python",
   "pygments_lexer": "ipython3",
   "version": "3.7.3"
  }
 },
 "nbformat": 4,
 "nbformat_minor": 2
}
