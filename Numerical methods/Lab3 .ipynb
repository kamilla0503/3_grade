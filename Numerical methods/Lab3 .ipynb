{
 "cells": [
  {
   "cell_type": "code",
   "execution_count": 1,
   "metadata": {},
   "outputs": [],
   "source": [
    "import numpy as np \n",
    "import scipy \n",
    "import matplotlib.pyplot as plt"
   ]
  },
  {
   "cell_type": "markdown",
   "metadata": {},
   "source": [
    "# РЕШЕНИЕ СИСТЕМ ЛИНЕЙНЫХ АЛГЕБРАИЧЕСКИХ УРАВНЕНИЙ ИТЕРАЦИОННЫМИ МЕТОДАМИ\n",
    "# Вариант 24 \n",
    " ## $$ Ax = b $$ \n",
    " "
   ]
  },
  {
   "cell_type": "code",
   "execution_count": 2,
   "metadata": {},
   "outputs": [],
   "source": [
    "A= [ [118.8, -14 ,-5 ,-89.1],[-14.85, -20, -5 ,0 ], [ 297,16, 320, 0], [0,6, -30, -36.3 ]  ]\n",
    "b= [943, -80.7, 2602.8, 1.1] "
   ]
  },
  {
   "cell_type": "markdown",
   "metadata": {},
   "source": [
    "\n",
    "###  Матрица моего варианта: "
   ]
  },
  {
   "cell_type": "code",
   "execution_count": 3,
   "metadata": {},
   "outputs": [
    {
     "name": "stdout",
     "output_type": "stream",
     "text": [
      "118.8 -14.0 -5.0 -89.1 \n",
      "-14.8 -20.0 -5.0 0.0 \n",
      "297.0 16.0 320.0 0.0 \n",
      "0.0 6.0 -30.0 -36.3 \n"
     ]
    }
   ],
   "source": [
    "for i in range(len(A)):\n",
    "    print(\"%.1f \"*len(A[i]) % tuple(A[i]) )\n",
    " "
   ]
  },
  {
   "cell_type": "markdown",
   "metadata": {},
   "source": [
    "### Вектор b моего варианта: "
   ]
  },
  {
   "cell_type": "code",
   "execution_count": 4,
   "metadata": {},
   "outputs": [
    {
     "name": "stdout",
     "output_type": "stream",
     "text": [
      "943.0 -80.7 2602.8 1.1 \n"
     ]
    }
   ],
   "source": [
    "print(\"%.1f \"*len(b) % tuple(b) )"
   ]
  },
  {
   "cell_type": "markdown",
   "metadata": {},
   "source": [
    "### Решение с помощью linalg.solve"
   ]
  },
  {
   "cell_type": "code",
   "execution_count": 5,
   "metadata": {},
   "outputs": [
    {
     "name": "stdout",
     "output_type": "stream",
     "text": [
      "6.2355 -1.1964 2.4063 -2.2167 \n"
     ]
    }
   ],
   "source": [
    "x_np = np.linalg.solve(A, b)\n",
    "print(\"%.4f \"*len(x_np) % tuple(x_np) )"
   ]
  },
  {
   "cell_type": "markdown",
   "metadata": {},
   "source": [
    "# Метод Зейделя. \n",
    "\n",
    "Метод Зейделя - итерационный метод решения систем линейных алгебраических уравнений.\n",
    "Метод Зейделя похож на метод Якоби, но главное отличие - новое значение $x^{(k+1)}$ используется сразу, как только его нашли.\n",
    "\n",
    "Основная идея: \n",
    "1. Система $ Ax = b $ проеобразуется к виду $ x=Bx+c $. Данный вид необходим для создания итераций.\n",
    "2. Матрица В представляется как $ B = B_1 + B_2 $,  \n",
    "где $B_1$ - нижнетреугольная матрица, $B_2$ - верхнетреугольная матрица. На диагонали обоих этих матриц стоят нули.\n",
    "\n",
    "Итерации алгоритма определены следующим образом. \n",
    "\n",
    "$$x^{(k+1)} = B_1 x^{(k+1)} + B_2 x^{(k)} +c $$"
   ]
  },
  {
   "cell_type": "markdown",
   "metadata": {},
   "source": [
    "### Преобразование системы 𝐴𝑥=𝑏 к итерационному виду x=Bx+c\n",
    "\n",
    "\n",
    "Используется следующее преобразование для получения матрицы В и вектора с: \n",
    "\n",
    "$ b_{ij} = 0$, если i=j\n",
    "\n",
    "$b_{ij} = -\\frac {a_{ij}}{a_{ii}} $, если $ i \\neq j $\n",
    "\n",
    "$c_i =\\frac{b_i}{a_{ii}} $"
   ]
  },
  {
   "cell_type": "code",
   "execution_count": 6,
   "metadata": {},
   "outputs": [],
   "source": [
    "B= []\n",
    "c= []\n",
    "\n",
    "for i in range(len(b)):\n",
    "    c.append(b[i]/A[i][i])\n",
    "    B.append([])\n",
    "    for j in range(len(b)):\n",
    "        if(i==j):\n",
    "            B[i].append(0)\n",
    "        else:\n",
    "            B[i].append(-A[i][j]/A[i][i])\n",
    "            \n",
    " "
   ]
  },
  {
   "cell_type": "markdown",
   "metadata": {},
   "source": [
    "### Полученная матрица В:"
   ]
  },
  {
   "cell_type": "code",
   "execution_count": 7,
   "metadata": {},
   "outputs": [
    {
     "name": "stdout",
     "output_type": "stream",
     "text": [
      "0.000 0.118 0.042 0.750 \n",
      "-0.742 0.000 -0.250 -0.000 \n",
      "-0.928 -0.050 0.000 0.000 \n",
      "-0.000 0.165 -0.826 0.000 \n"
     ]
    }
   ],
   "source": [
    "for i in range(len(B)):\n",
    "    print(\"%.3f \"*len(B[i]) % tuple(B[i]) )\n",
    " "
   ]
  },
  {
   "cell_type": "markdown",
   "metadata": {},
   "source": [
    "### Полученный вектор с:"
   ]
  },
  {
   "cell_type": "code",
   "execution_count": 8,
   "metadata": {},
   "outputs": [
    {
     "name": "stdout",
     "output_type": "stream",
     "text": [
      "7.938 4.035 8.134 -0.030 \n"
     ]
    }
   ],
   "source": [
    "print(\"%.3f \"*len(c) % tuple(c) )"
   ]
  },
  {
   "cell_type": "code",
   "execution_count": 9,
   "metadata": {},
   "outputs": [
    {
     "name": "stdout",
     "output_type": "stream",
     "text": [
      "Норма полученной матрицы В:\n",
      "0.9924999999999999\n"
     ]
    }
   ],
   "source": [
    "B_norm = np.linalg.norm(B, np.inf)\n",
    "print(\"Норма полученной матрицы В:\")\n",
    "print(B_norm)"
   ]
  },
  {
   "cell_type": "markdown",
   "metadata": {},
   "source": [
    "Достаточное условие сходимости: $$ ||B||_{\\infty} < 1 $$ \n",
    "\n",
    "\n",
    "Данное условие выполняется для полученной матрицы В. "
   ]
  },
  {
   "cell_type": "markdown",
   "metadata": {},
   "source": [
    "### Реализация метода Зейделя \n",
    "\n",
    "B - полученная ранее матрица для системы вида x=Bx+c\n",
    "\n",
    "\n",
    "$$ B = B_1 + B_2 $$ \n",
    "$B_1$ - нижнетреугольная матрица, $B_2$ - верхнетреугольная матрица.\n",
    "\n",
    "$$x^{(k+1)} = B_1 x^{(k+1)} + B_2 x^{(k)} +c $$"
   ]
  },
  {
   "cell_type": "code",
   "execution_count": 10,
   "metadata": {},
   "outputs": [],
   "source": [
    "def zeid(B,c,iterations,x_start  ):\n",
    "    #возвращает массив - вектор решений \n",
    "    y=x_start.copy()\n",
    "   \n",
    "    for k in range(iterations):\n",
    "        x_k = y.copy()      \n",
    "        for i in range(len(c)):\n",
    "            u=0\n",
    "            for j in range(i):\n",
    "                u=u+B[i][j]*y[j]  #использование новых значений x^{k+1}          \n",
    "            for j in range(i+1, len(c)):\n",
    "                u=u+B[i][j]*x_k[j]          \n",
    "            y[i] = u+c[i]\n",
    "        print(\"iteration:\" ,k+1)\n",
    "        print(\"%.3f \"*len(y) % tuple(y) )\n",
    "        \n",
    "    return y    \n",
    "    "
   ]
  },
  {
   "cell_type": "markdown",
   "metadata": {},
   "source": [
    "Выполним 10 итераций по методу Зейделя. \n",
    "Начальное приближение: $ x_0 = (1; 1; 1; 1)$"
   ]
  },
  {
   "cell_type": "code",
   "execution_count": 11,
   "metadata": {},
   "outputs": [
    {
     "name": "stdout",
     "output_type": "stream",
     "text": [
      "iteration: 1\n",
      "8.848 -2.784 0.061 -0.541 \n",
      "iteration: 2\n",
      "7.206 -1.331 1.512 -1.500 \n",
      "iteration: 3\n",
      "6.720 -1.332 1.964 -1.873 \n",
      "iteration: 4\n",
      "6.458 -1.251 2.202 -2.057 \n",
      "iteration: 5\n",
      "6.340 -1.223 2.310 -2.142 \n",
      "iteration: 6\n",
      "6.284 -1.209 2.362 -2.182 \n",
      "iteration: 7\n",
      "6.258 -1.202 2.385 -2.200 \n",
      "iteration: 8\n",
      "6.246 -1.199 2.396 -2.209 \n",
      "iteration: 9\n",
      "6.240 -1.198 2.402 -2.213 \n",
      "iteration: 10\n",
      "6.238 -1.197 2.404 -2.215 \n"
     ]
    }
   ],
   "source": [
    "x = zeid(B, c, 10, [1,1,1,1])"
   ]
  },
  {
   "cell_type": "markdown",
   "metadata": {},
   "source": [
    "Абсолютная погрешность для найденного вектора решений:\n",
    "$$ \\Delta x=||x_{from linalg}-x_{zeidel}||_{\\infty} $$"
   ]
  },
  {
   "cell_type": "code",
   "execution_count": 12,
   "metadata": {},
   "outputs": [
    {
     "name": "stdout",
     "output_type": "stream",
     "text": [
      "Абсолютная погрешность:  0.00233976886560594\n"
     ]
    }
   ],
   "source": [
    "abs_error  =   np.linalg.norm(x_np-x, np.inf)\n",
    "print(\"Абсолютная погрешность: \", abs_error)"
   ]
  },
  {
   "cell_type": "markdown",
   "metadata": {},
   "source": [
    "Относительная погрешность для вектора решений: \n",
    " $$ \\delta( x) = \\frac{||x_{from linalg}-x_{zeidel}||_{\\infty} }{ || x_{from linalg}||_{\\infty}  } $$"
   ]
  },
  {
   "cell_type": "code",
   "execution_count": 13,
   "metadata": {},
   "outputs": [
    {
     "name": "stdout",
     "output_type": "stream",
     "text": [
      "Относительная погрешность:  0.00037523640238665545\n"
     ]
    }
   ],
   "source": [
    "relative_error  =   np.linalg.norm( x_np - x, np.inf)/ np.linalg.norm(x_np, np.inf)\n",
    "print(\"Относительная погрешность: \", relative_error)"
   ]
  },
  {
   "cell_type": "markdown",
   "metadata": {},
   "source": [
    "Ранее полученное решение: $x \\approx (6.2355; -1.1964; 2.4063; -2.2167 ) $ \n",
    "\n",
    "Как видно, решение написанной программы сходится к истинному решению."
   ]
  },
  {
   "cell_type": "markdown",
   "metadata": {},
   "source": [
    "Выполним снова 10 итераций по методу Зейделя. \n",
    "Начальное приближение: $ x_0 = (10; 5; 6; 100)$"
   ]
  },
  {
   "cell_type": "code",
   "execution_count": 14,
   "metadata": {},
   "outputs": [
    {
     "name": "stdout",
     "output_type": "stream",
     "text": [
      "iteration: 1\n",
      "83.779 -59.671 -66.640 45.181 \n",
      "iteration: 2\n",
      "31.987 -3.055 -21.402 17.152 \n",
      "iteration: 3\n",
      "19.541 -5.124 -9.746 7.178 \n",
      "iteration: 4\n",
      "12.307 -2.666 -3.155 2.137 \n",
      "iteration: 5\n",
      "9.093 -1.928 -0.210 -0.176 \n",
      "iteration: 6\n",
      "7.570 -1.533 1.185 -1.263 \n",
      "iteration: 7\n",
      "6.860 -1.355 1.835 -1.771 \n",
      "iteration: 8\n",
      "6.527 -1.270 2.139 -2.008 \n",
      "iteration: 9\n",
      "6.372 -1.231 2.281 -2.119 \n",
      "iteration: 10\n",
      "6.299 -1.213 2.348 -2.171 \n"
     ]
    }
   ],
   "source": [
    "x = zeid(B, c, 10, [10,5,6,100])"
   ]
  },
  {
   "cell_type": "code",
   "execution_count": 15,
   "metadata": {},
   "outputs": [
    {
     "name": "stdout",
     "output_type": "stream",
     "text": [
      "Абсолютная погрешность:  0.06386664858270574\n"
     ]
    }
   ],
   "source": [
    "abs_error  =   np.linalg.norm(x_np-x, np.inf)\n",
    "print(\"Абсолютная погрешность: \", abs_error)"
   ]
  },
  {
   "cell_type": "code",
   "execution_count": 16,
   "metadata": {},
   "outputs": [
    {
     "name": "stdout",
     "output_type": "stream",
     "text": [
      "Относительная погрешность:  0.010242503778449479\n"
     ]
    }
   ],
   "source": [
    "relative_error  =   np.linalg.norm( x_np - x, np.inf)/ np.linalg.norm(x_np, np.inf)\n",
    "print(\"Относительная погрешность: \", relative_error)"
   ]
  },
  {
   "cell_type": "markdown",
   "metadata": {},
   "source": [
    "Решение итерационного метода снова сходится к истинному решению. Это объясняется тем, что выполняется достаточное условие сходимости метода: $$ ||B|| < 1 $$ \n",
    "Значит, метод будет сходиться при любом начальном приближении.\n",
    "\n",
    "Во втором случае значения погрешностей выше, так как вектор начального приближения был выбран дальше от истинного решения, при этом число итераций было одинаковым. "
   ]
  },
  {
   "cell_type": "markdown",
   "metadata": {},
   "source": [
    "### Поиск решения с заданной точностью \n",
    "\n",
    " $$ \\varepsilon = 10^{-6} $$\n",
    " \n",
    " Пусть $||B_1||+||B_2||<1. $ Тогда используется следующий критерий окончания: \n",
    "\n",
    " \n",
    "$$ ||x^{(k+1)} - x^{(k)}|| <  \\frac{1-||B||}{||B_2||} \\varepsilon$$"
   ]
  },
  {
   "cell_type": "markdown",
   "metadata": {},
   "source": [
    "Сначала получим матрицы В1 и В2 для проверки выполнения."
   ]
  },
  {
   "cell_type": "code",
   "execution_count": 17,
   "metadata": {},
   "outputs": [],
   "source": [
    "B1=[]\n",
    "B2=[]\n",
    "for i in range(len(B)):\n",
    "    B1.append([])\n",
    "    B2.append([])\n",
    "    for j in range(len(B[0])):\n",
    "        if(i==j):\n",
    "            B1[i].append(0)\n",
    "            B2[i].append(0)\n",
    "        elif(i>j):\n",
    "            B1[i].append(B[i][j])\n",
    "            B2[i].append(0)\n",
    "        else:\n",
    "            B2[i].append(B[i][j])\n",
    "            B1[i].append(0)            "
   ]
  },
  {
   "cell_type": "code",
   "execution_count": 18,
   "metadata": {},
   "outputs": [
    {
     "name": "stdout",
     "output_type": "stream",
     "text": [
      "Матрица  В1: \n",
      "0.000 0.000 0.000 0.000 \n",
      "-0.742 0.000 0.000 0.000 \n",
      "-0.928 -0.050 0.000 0.000 \n",
      "-0.000 0.165 -0.826 0.000 \n",
      "Матрица  В2: \n",
      "0.000 0.118 0.042 0.750 \n",
      "0.000 0.000 -0.250 -0.000 \n",
      "0.000 0.000 0.000 0.000 \n",
      "0.000 0.000 0.000 0.000 \n"
     ]
    }
   ],
   "source": [
    "print(\"Матрица  В1: \")\n",
    "for i in range(len(B1)):\n",
    "    print(\"%.3f \"*len(B1[i]) % tuple(B1[i]) )\n",
    "print(\"Матрица  В2: \")\n",
    "for i in range(len(B2)):\n",
    "    print(\"%.3f \"*len(B2[i]) % tuple(B2[i]) )\n",
    "  "
   ]
  },
  {
   "cell_type": "code",
   "execution_count": 19,
   "metadata": {},
   "outputs": [
    {
     "name": "stdout",
     "output_type": "stream",
     "text": [
      "Сумма норм В1 и В2:  1.9016681971227425\n"
     ]
    }
   ],
   "source": [
    "norm_B1 = np.linalg.norm( B1, np.inf)\n",
    "norm_B2 = np.linalg.norm( B2, np.inf)\n",
    "print(\"Сумма норм В1 и В2: \", norm_B1+norm_B2)"
   ]
  },
  {
   "cell_type": "markdown",
   "metadata": {},
   "source": [
    "Будем использовать упрощенный критерий окончания итерационного процесса Зейделя:\n",
    "   $$ ||x^{(k+1)} - x^{(k)}||  < \\varepsilon_2 $$"
   ]
  },
  {
   "cell_type": "code",
   "execution_count": 27,
   "metadata": {},
   "outputs": [],
   "source": [
    "def zeid_with_precision(B,B1,B2,c,x_start, epsilon = 1e-6  ):\n",
    "     \n",
    "    x_start = np.array(x_start)\n",
    "    k=1\n",
    "    y=np.zeros(4)\n",
    "    \n",
    "    #первая итерация \n",
    "    for i in range(len(c)):\n",
    "        u=0\n",
    "        for j in range(len(c)):\n",
    "            u=u+B[i][j]*x_start[j]            \n",
    "                   \n",
    "        y[i] = u+c[i]        \n",
    "        \n",
    "    compare_norm = np.linalg.norm( y-x_start, np.inf)\n",
    "    q = (1 - np.linalg.norm( B, np.inf) ) / np.linalg.norm(B2, np.inf)\n",
    "    epsilon2 = epsilon*q\n",
    "    while(compare_norm>epsilon2):\n",
    "   \n",
    "        x_k = y.copy()      \n",
    "        for i in range(len(c)):\n",
    "            u=0\n",
    "            for j in range(i):\n",
    "                u=u+B[i][j]*y[j]            \n",
    "            for j in range(i+1, len(c)):\n",
    "                u=u+B[i][j]*x_k[j]          \n",
    "            y[i] = u+c[i]\n",
    "        compare_norm = np.linalg.norm( y-x_k, np.inf)\n",
    "        k=k+1\n",
    "        \n",
    "    print(\"Number of iterations: \", k )\n",
    "    return y    \n",
    "    "
   ]
  },
  {
   "cell_type": "code",
   "execution_count": 28,
   "metadata": {},
   "outputs": [
    {
     "name": "stdout",
     "output_type": "stream",
     "text": [
      "Number of iterations:  27\n"
     ]
    }
   ],
   "source": [
    "x_new = zeid_with_precision(B,B1,B2, c, [10,1,1,1])"
   ]
  },
  {
   "cell_type": "markdown",
   "metadata": {},
   "source": [
    "### Полученный вектор решений: "
   ]
  },
  {
   "cell_type": "code",
   "execution_count": 29,
   "metadata": {},
   "outputs": [
    {
     "name": "stdout",
     "output_type": "stream",
     "text": [
      "6.235452778 -1.196396237 2.406290202 -2.216724063 \n"
     ]
    }
   ],
   "source": [
    "print(\"%.9f \"*len(x_new) % tuple(x_new) )"
   ]
  },
  {
   "cell_type": "code",
   "execution_count": 30,
   "metadata": {},
   "outputs": [
    {
     "name": "stdout",
     "output_type": "stream",
     "text": [
      "Абсолютная погрешность:  5.389856561066608e-09\n"
     ]
    }
   ],
   "source": [
    "abs_error  =   np.linalg.norm(x_np-x_new, np.inf)\n",
    "print(\"Абсолютная погрешность: \", abs_error)"
   ]
  },
  {
   "cell_type": "markdown",
   "metadata": {},
   "source": [
    "Для поиска решения с точностью  $ \\varepsilon = 10^{-6} $ потребовалось 27 итераций метода Зейделя. "
   ]
  }
 ],
 "metadata": {
  "kernelspec": {
   "display_name": "Python 3",
   "language": "python",
   "name": "python3"
  },
  "language_info": {
   "codemirror_mode": {
    "name": "ipython",
    "version": 3
   },
   "file_extension": ".py",
   "mimetype": "text/x-python",
   "name": "python",
   "nbconvert_exporter": "python",
   "pygments_lexer": "ipython3",
   "version": "3.7.3"
  }
 },
 "nbformat": 4,
 "nbformat_minor": 2
}
