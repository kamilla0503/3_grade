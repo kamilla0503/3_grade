{
 "cells": [
  {
   "cell_type": "code",
   "execution_count": 11,
   "metadata": {},
   "outputs": [],
   "source": [
    "import numpy as np \n",
    "import scipy \n",
    "import matplotlib.pyplot as plt"
   ]
  },
  {
   "cell_type": "markdown",
   "metadata": {},
   "source": [
    "# Вариант 24 \n",
    " ## $$ Ax = b $$ \n",
    " ### $$ a_{ij} = \\frac{159}{10c^{3}+c^{2}+25} \\space $$\n",
    " ### $$ c=c_{ij}=0.1Nij \\space \\forall i, j=1..n $$\n",
    " ### $$ N=24 $$ "
   ]
  },
  {
   "cell_type": "code",
   "execution_count": 12,
   "metadata": {},
   "outputs": [],
   "source": [
    "def create_matrix(n=4):\n",
    "    matrix = np.zeros([n, n], dtype = float)\n",
    "    var=24\n",
    "    for i in range(n):\n",
    "        for j in range(n):\n",
    "            c=0.1*var*(i+1)*(j+1)\n",
    "            matrix[i][j] = 159/(10*c*c*c+c*c+25)\n",
    "    \n",
    "    b=np.zeros(n, dtype=float)\n",
    "    for i in range(n):\n",
    "        b[i]=var\n",
    "\n",
    "    return matrix, b"
   ]
  },
  {
   "cell_type": "code",
   "execution_count": 13,
   "metadata": {},
   "outputs": [],
   "source": [
    "matrix, b=create_matrix()\n"
   ]
  },
  {
   "cell_type": "markdown",
   "metadata": {},
   "source": [
    "###  Матрица моего варианта: "
   ]
  },
  {
   "cell_type": "code",
   "execution_count": 14,
   "metadata": {},
   "outputs": [
    {
     "name": "stdout",
     "output_type": "stream",
     "text": [
      "0.941 0.138 0.042 0.018 \n",
      "0.138 0.018 0.005 0.002 \n",
      "0.042 0.005 0.002 0.001 \n",
      "0.018 0.002 0.001 0.000 \n"
     ]
    }
   ],
   "source": [
    "for i in range(len(matrix)):\n",
    "    print(\"%.3f \"*len(matrix[i]) % tuple(matrix[i]) )\n",
    " "
   ]
  },
  {
   "cell_type": "markdown",
   "metadata": {},
   "source": [
    "### Вектор b моего варианта: "
   ]
  },
  {
   "cell_type": "code",
   "execution_count": 15,
   "metadata": {},
   "outputs": [
    {
     "name": "stdout",
     "output_type": "stream",
     "text": [
      "24.000 24.000 24.000 24.000 \n"
     ]
    }
   ],
   "source": [
    "print(\"%.3f \"*len(b) % tuple(b) )"
   ]
  },
  {
   "cell_type": "markdown",
   "metadata": {},
   "source": [
    "# Реализация метода Гаусса \n",
    "\n",
    "Метод Гаусса - прямой метод решения системы линейных алгебраических уравнений. \n",
    "\n",
    "Сложность алгоритма: \n",
    "$$ Q \\approx \\frac{2}{3}m^3+m^2$$"
   ]
  },
  {
   "cell_type": "markdown",
   "metadata": {},
   "source": [
    "## Прямой ход метода Гаусса\n",
    "\n",
    "Матрица приводится к верхнетреугольному виду следующим образом. \n",
    "\n",
    "При k=0 $A^{(0)} = A, \\space b^{(0)}=b$. \n",
    "\n",
    "На  k-ом шаге мы получаем матрицу $A^{(k)}$\n",
    "\n",
    "Пусть на  k-ом шаге $ a_{kk} \\neq  0$ (иначе нужно поменять k-ую строку со следующей нижней строкой, в которой k-ый элемент не равен нулю). Тогда \n",
    "$$ \\mu_{ik} = \\frac{a_{ik}^{(k-1)} }{a_{kk}^{(k-1)}} $$\n",
    "\n",
    "$$ b_i^{(k)} = b_i^{(k-1)} - \\mu_{ik} b_k^{(k-1)} $$ \n",
    "\n",
    "$$  a_{ij}^{(k)} =  a_{ij}^{(k-1)} - \\mu_{ik} a_{ik}^{(k-1)} $$ "
   ]
  },
  {
   "cell_type": "markdown",
   "metadata": {},
   "source": [
    "### Функция для обработки одной строки матрицы: "
   ]
  },
  {
   "cell_type": "code",
   "execution_count": 16,
   "metadata": {},
   "outputs": [],
   "source": [
    "def gauss_step(A, b, step, k=-1):\n",
    "    if(k==-1):\n",
    "        k=step \n",
    "    temp_perm =np.zeros(len(b), dtype=float)\n",
    " \n",
    "    if(abs(A[step][step])< np.finfo(float).eps): # это на случай, если нужно передвинуть строки \n",
    "         \n",
    "        q=True\n",
    "        currentstep=step+1\n",
    "        while(q ):\n",
    "            if(A[currentstep][currentstep] >  np.finfo(float).eps ):\n",
    "                temp_perm = A[step]\n",
    "                A[step]=A[currentstep]\n",
    "                A[currentstep]=temp_perm\n",
    "                temp_perm = b [step]\n",
    "                b[step] = b[currentstep]\n",
    "                b[currentstep] = temp_perm\n",
    "                break \n",
    "                \n",
    "            \n",
    "            currentstep = currentstep+1\n",
    "            if(currentstep==len(b)):\n",
    "                \n",
    "                return A\n",
    "               \n",
    "    else:\n",
    " \n",
    "        A_n=A.copy()\n",
    "        b_n=b.copy()\n",
    "        \n",
    "        for i in range(step+1, len(b)):\n",
    "          \n",
    "            nu = A[i][step]/A[step][step]\n",
    "         \n",
    "            for j in range (step, len(b)): # \n",
    "                A_n[i][j]=A[i][j]-nu*A[step][j]\n",
    "                #print(\"aig\", A_n[i][j])\n",
    "            b_n[i]=b[i]- nu*b[step]\n",
    "                \n",
    " \n",
    "        return A_n.copy(), b_n.copy()\n",
    "                \n",
    "    \n",
    "    "
   ]
  },
  {
   "cell_type": "markdown",
   "metadata": {},
   "source": [
    "### Функция, приводящая матрица к верхнетреугольному виду "
   ]
  },
  {
   "cell_type": "code",
   "execution_count": 17,
   "metadata": {},
   "outputs": [],
   "source": [
    "def Gauss_elimination(A, b):\n",
    "    x=np.zeros(len(b), dtype = float)\n",
    "    An=A.copy()\n",
    "    bn=b.copy()\n",
    "    \n",
    "    for i in range(len(b)-1):\n",
    "\n",
    "        An1, bn1 = gauss_step(An, bn, i,i)\n",
    "        An=An1.copy()\n",
    "        bn=bn1.copy()\n",
    "        \n",
    "\n",
    "    return An, bn "
   ]
  },
  {
   "cell_type": "code",
   "execution_count": 20,
   "metadata": {},
   "outputs": [],
   "source": [
    "Gauss_A, Gauss_b = Gauss_elimination(matrix, b)"
   ]
  },
  {
   "cell_type": "markdown",
   "metadata": {},
   "source": [
    "#### Полученная треугольна матрица методом Гаусса: "
   ]
  },
  {
   "cell_type": "code",
   "execution_count": 24,
   "metadata": {},
   "outputs": [
    {
     "name": "stdout",
     "output_type": "stream",
     "text": [
      "0.941 0.138 0.042 0.018 \n",
      "0.000 -0.002 -0.001 -0.000 \n",
      "0.000 0.000 -0.000 -0.000 \n",
      "0.000 -0.000 0.000 0.000 \n"
     ]
    }
   ],
   "source": [
    "for i in range(len(Gauss_A)):\n",
    "    print(\"%.3f \"*len(Gauss_A[i]) % tuple(Gauss_A[i]) )\n",
    " "
   ]
  },
  {
   "cell_type": "markdown",
   "metadata": {},
   "source": [
    "#### Вектор b: "
   ]
  },
  {
   "cell_type": "code",
   "execution_count": 25,
   "metadata": {},
   "outputs": [
    {
     "name": "stdout",
     "output_type": "stream",
     "text": [
      "24.000 20.485 15.982 5.579 \n"
     ]
    }
   ],
   "source": [
    "print(\"%.3f \"*len(Gauss_b) % tuple(Gauss_b) )"
   ]
  },
  {
   "cell_type": "markdown",
   "metadata": {},
   "source": [
    "### Обратный ход метода Гаусса: "
   ]
  },
  {
   "cell_type": "markdown",
   "metadata": {},
   "source": [
    "### Решение системы Ax = b\n",
    "\n",
    "\n",
    "\n",
    "k-ая компонента искомого вектора х находится следующим образом: \n",
    "\n",
    "$$x_k = \\frac{b_k^{(k-1)} - a_{k k+1}^{(k-1)}x_{k+1} - ... - a_{k n}^{(k-1)}x_{n}  }{a_{kk}^{(k-1)}} $$\n",
    " \n",
    "В моем варианте n=4."
   ]
  },
  {
   "cell_type": "code",
   "execution_count": 26,
   "metadata": {},
   "outputs": [],
   "source": [
    "def Gauss_backward(Gauss_A, Gauss_b):\n",
    "    \n",
    "    x= Gauss_b\n",
    "    \n",
    "    for i in range(len(Gauss_b)-1, -1, -1 ):\n",
    " \n",
    "        for j in range(  len(Gauss_b)-1, i, -1    ):\n",
    "            x[i] = x[i] - Gauss_A[i][j]*x[j]\n",
    "    \n",
    "        x[i]=x[i]/Gauss_A[i][i]\n",
    "    \n",
    "    return x \n",
    "    \n",
    "    "
   ]
  },
  {
   "cell_type": "code",
   "execution_count": 27,
   "metadata": {},
   "outputs": [],
   "source": [
    "def solve_system(A, b):\n",
    "    \n",
    "    Gauss_A, Gauss_b = Gauss_elimination(A, b)\n",
    "    x = Gauss_backward( Gauss_A, Gauss_b)\n",
    "    \n",
    "    return x "
   ]
  },
  {
   "cell_type": "code",
   "execution_count": 28,
   "metadata": {},
   "outputs": [],
   "source": [
    "x = solve_system(matrix, b)"
   ]
  },
  {
   "cell_type": "markdown",
   "metadata": {},
   "source": [
    "### Найденное решение системы Ax = b:"
   ]
  },
  {
   "cell_type": "code",
   "execution_count": 29,
   "metadata": {},
   "outputs": [
    {
     "name": "stdout",
     "output_type": "stream",
     "text": [
      "-823194.383 61391353.075 -285117087.073 237719107.300 \n"
     ]
    }
   ],
   "source": [
    "print(\"%.3f \"*len(x) % tuple(x) )"
   ]
  },
  {
   "cell_type": "markdown",
   "metadata": {},
   "source": [
    "### Решение с помощью linalg.solve"
   ]
  },
  {
   "cell_type": "code",
   "execution_count": 30,
   "metadata": {},
   "outputs": [
    {
     "name": "stdout",
     "output_type": "stream",
     "text": [
      "-823194.383 61391353.075 -285117087.076 237719107.303 \n"
     ]
    }
   ],
   "source": [
    "x_np = np.linalg.solve(matrix, b)\n",
    "print(\"%.3f \"*len(x_np) % tuple(x_np) )"
   ]
  },
  {
   "cell_type": "markdown",
   "metadata": {},
   "source": [
    "Так как в третьем задании Используется $ || (.) ||_{\\infty} $, то и для поиска норм векторов здесь используется inf. \n",
    "\n",
    "Абсолютная погрешность для вектора решений:\n",
    "$$ \\Delta x=||x_{from linalg}-x_{gauss}||_{\\infty} $$"
   ]
  },
  {
   "cell_type": "code",
   "execution_count": 43,
   "metadata": {},
   "outputs": [
    {
     "name": "stdout",
     "output_type": "stream",
     "text": [
      "Абсолютная погрешность:  0.0027724802494049072\n"
     ]
    }
   ],
   "source": [
    "abs_error  =   np.linalg.norm(x_np-x, np.inf)\n",
    "print(\"Абсолютная погрешность: \", abs_error)"
   ]
  },
  {
   "cell_type": "markdown",
   "metadata": {},
   "source": [
    "Относительная погрешность для вектора решений: \n",
    " $$ \\delta( x) = \\frac{||x_{from linalg}-x_{gauss}||_{\\infty} }{ || x_{from linalg}||_{\\infty}  } $$"
   ]
  },
  {
   "cell_type": "code",
   "execution_count": 44,
   "metadata": {},
   "outputs": [
    {
     "name": "stdout",
     "output_type": "stream",
     "text": [
      "Относительная погрешность:  9.72400594380561e-12\n"
     ]
    }
   ],
   "source": [
    "relative_error  =   np.linalg.norm( x_np - x, np.inf)/ np.linalg.norm(x_np, np.inf)\n",
    "print(\"Относительная погрешность: \", relative_error)"
   ]
  },
  {
   "cell_type": "markdown",
   "metadata": {},
   "source": [
    "Решение, найденное моей программой, соответствует решению, найденному с помощью готового пакета. \n"
   ]
  },
  {
   "cell_type": "markdown",
   "metadata": {},
   "source": [
    "### Поиск числа обусловленности матрицы А.\n",
    "\n",
    "\n",
    "$$cond(A) =  || A ||  ||A^{-1}|| $$ \n",
    "\n",
    "Так как в третьем задании Используется $ || (.) ||_{\\infty} $, то и для поиска числа обусловленности матрицы используется inf. \n",
    "\n",
    "\n",
    "Пусть x - вектор размерности n.\n",
    "\n",
    "$ ||x||_{\\infty} = \\max|x_i| $, Где $x_i$ - i-ая компонента вектора x. \n",
    "\n",
    "Данной норме вектора соответствует следующая норма для матриц: \n",
    "\n",
    "$ ||A||_{\\infty} = \\max_{1<=i<=n} \\sum_{j=1}^{m} |a_{ij}|$"
   ]
  },
  {
   "cell_type": "code",
   "execution_count": 231,
   "metadata": {},
   "outputs": [
    {
     "name": "stdout",
     "output_type": "stream",
     "text": [
      "Число обусловленности: \n",
      "102021295.13061807\n"
     ]
    }
   ],
   "source": [
    "cond_number = np.linalg.cond( matrix, np.inf)\n",
    "print(\"Число обусловленности: \")\n",
    "print(cond_number)"
   ]
  },
  {
   "cell_type": "markdown",
   "metadata": {},
   "source": [
    "Число обусловленности измеряет, насколько может измениться выходное значение функции при небольшом изменении входного аргумента. \n",
    "В данном случае матрица плохо обусловлена. Это значит, что при небольшом изменении входных данных (вектора b), выходные данные ( решение системы - вектор х) будет сильно отличаться от решения истинной системы.\n"
   ]
  },
  {
   "cell_type": "markdown",
   "metadata": {},
   "source": [
    "### Находим вектор d "
   ]
  },
  {
   "cell_type": "code",
   "execution_count": 39,
   "metadata": {},
   "outputs": [
    {
     "name": "stdout",
     "output_type": "stream",
     "text": [
      "Найденный ранее вектор решений, который теперь принимаем за точный:\n",
      "-823194.383 61391353.075 -285117087.073 237719107.300 \n"
     ]
    }
   ],
   "source": [
    "print(\"Найденный ранее вектор решений, который теперь принимаем за точный:\")\n",
    "print(\"%.3f \"*len(x) % tuple(x) )"
   ]
  },
  {
   "cell_type": "code",
   "execution_count": 42,
   "metadata": {},
   "outputs": [
    {
     "name": "stdout",
     "output_type": "stream",
     "text": [
      "Вектор решений при изменении 1-ой компоненты вектора b\n",
      "-823193.806 61391278.899 -285116484.399 237718235.227 \n",
      "Абсолютная погрешность:  872.0731736123562\n",
      "Вектор решений при изменении 2-ой компоненты вектора b\n",
      "-823268.558 61398827.725 -285170519.946 237790719.427 \n",
      "Абсолютная погрешность:  71612.12769129872\n",
      "Вектор решений при изменении 3-ой компоненты вектора b\n",
      "-822591.708 61337920.202 -284785240.220 237321291.858 \n",
      "Абсолютная погрешность:  397815.441994071\n",
      "Вектор решений при изменении 4-ой компоненты вектора b\n",
      "-824066.456 61462965.202 -285514902.515 238145232.315 \n",
      "Абсолютная погрешность:  426125.01551789045\n",
      "Вектор d:\n",
      "[3.0586492818219067e-06, 0.00025116743589924146, 0.0013952704346042613, 0.001494561479607561]\n"
     ]
    }
   ],
   "source": [
    "d = []\n",
    "delta = 0.01 # произвольная величина погрешности \n",
    "x_norm =   np.linalg.norm(x, np.inf)\n",
    "for i in range(len(b)):\n",
    "    b_i = b.copy()\n",
    "    b_i[i] = b_i[i]+delta\n",
    "    x_i = solve_system(matrix, b_i)\n",
    "    print(\"Вектор решений при изменении \", i+1, \"-ой компоненты вектора b\", sep=\"\")\n",
    "    print(\"%.3f \"*len(x_i) % tuple(x_i) )\n",
    "    \n",
    "    x_diff_norm = np.linalg.norm(x-x_i, np.inf)\n",
    "    print(\"Абсолютная погрешность: \", x_diff_norm)\n",
    "    d.append( x_diff_norm/x_norm  )\n",
    "    \n",
    "    \n",
    "print(\"Вектор d:\")\n",
    "print(d)"
   ]
  },
  {
   "cell_type": "markdown",
   "metadata": {},
   "source": [
    "При небольшом изменении входных данных (изменений одной компоненты на 0.01) получили достаточные изменения в векторах решений. Причина -  матрица А плохо обусловлена. \n"
   ]
  },
  {
   "cell_type": "markdown",
   "metadata": {},
   "source": [
    "### Гистрограмма вектора d:\n"
   ]
  },
  {
   "cell_type": "code",
   "execution_count": 233,
   "metadata": {},
   "outputs": [
    {
     "data": {
      "text/plain": [
       "<BarContainer object of 4 artists>"
      ]
     },
     "execution_count": 233,
     "metadata": {},
     "output_type": "execute_result"
    },
    {
     "data": {
      "image/png": "[encoded data removed]",
      "text/plain": [
       "<Figure size 432x288 with 1 Axes>"
      ]
     },
     "metadata": {
      "needs_background": "light"
     },
     "output_type": "display_data"
    }
   ],
   "source": [
    "plt.bar([1,2,3,4 ],d)"
   ]
  },
  {
   "cell_type": "markdown",
   "metadata": {},
   "source": [
    "Наибольшее влияние на погрешность решения оказывает четвертая компонента вектора b. (С учетом индексации номер компоненты 3)."
   ]
  },
  {
   "cell_type": "code",
   "execution_count": 234,
   "metadata": {},
   "outputs": [
    {
     "name": "stdout",
     "output_type": "stream",
     "text": [
      "Относительная погрешность b: \n",
      "0.0004166666666667318\n"
     ]
    }
   ],
   "source": [
    "b_norm = np.linalg.norm(b, np.inf)\n",
    "\n",
    "b_3 = b.copy()\n",
    "b_3[3] = b_3[3]+delta \n",
    "\n",
    "b_3_abs =  np.linalg.norm(b_3-b, np.inf)\n",
    "\n",
    "relative_b = b_3_abs/b_norm\n",
    "\n",
    "print(\"Относительная погрешность b: \")\n",
    "print(relative_b)"
   ]
  },
  {
   "cell_type": "markdown",
   "metadata": {},
   "source": [
    "Найдем: $$ cond(A)\\delta(b^m) $$ "
   ]
  },
  {
   "cell_type": "code",
   "execution_count": 235,
   "metadata": {},
   "outputs": [
    {
     "data": {
      "text/plain": [
       "42508.8729710975"
      ]
     },
     "execution_count": 235,
     "metadata": {},
     "output_type": "execute_result"
    }
   ],
   "source": [
    "cond_number*relative_b"
   ]
  },
  {
   "cell_type": "markdown",
   "metadata": {},
   "source": [
    "Получаем следующее: \n",
    "    $$ \\delta( x^m) <= cond(A)\\delta(b^m) $$ \n",
    "    \n",
    "Для m=4:\n",
    "    $$ \\delta( x^4) <= 42508.87297  $$ \n",
    "    \n",
    "$d_4 =  0.00149456  \\implies d_4 <=  42508.87297  $ \n",
    "$$ d_4 <= cond(A)\\delta(b^4)  $$"
   ]
  },
  {
   "cell_type": "markdown",
   "metadata": {},
   "source": [
    "Практическая погрешность меньше возможной теоретической. "
   ]
  },
  {
   "cell_type": "code",
   "execution_count": null,
   "metadata": {},
   "outputs": [],
   "source": []
  },
  {
   "cell_type": "code",
   "execution_count": null,
   "metadata": {},
   "outputs": [],
   "source": []
  }
 ],
 "metadata": {
  "kernelspec": {
   "display_name": "Python 3",
   "language": "python",
   "name": "python3"
  },
  "language_info": {
   "codemirror_mode": {
    "name": "ipython",
    "version": 3
   },
   "file_extension": ".py",
   "mimetype": "text/x-python",
   "name": "python",
   "nbconvert_exporter": "python",
   "pygments_lexer": "ipython3",
   "version": "3.7.3"
  }
 },
 "nbformat": 4,
 "nbformat_minor": 2
}
