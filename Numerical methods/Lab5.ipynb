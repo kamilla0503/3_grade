{
 "cells": [
  {
   "cell_type": "code",
   "execution_count": 1,
   "metadata": {},
   "outputs": [],
   "source": [
    "from matplotlib import pyplot as plt \n",
    "import numpy as np \n",
    "from math import sqrt, cos, sin, pi"
   ]
  },
  {
   "cell_type": "markdown",
   "metadata": {},
   "source": [
    "# ЧИСЛЕННОЕ ИНТЕГРИРОВАНИЕ\n",
    "\n",
    "## Вариант 24 \n",
    "$$ I = \\int_{1}^{1.44} P_n(x) dx$$\n",
    "$$ P_n(x) = \\sum_{i=0}^{n} c_i x^i  $$\n",
    "$$ c = (1.3, 0.5, 2.1, 5.7, 8.3, -3.7)$$"
   ]
  },
  {
   "cell_type": "markdown",
   "metadata": {},
   "source": [
    "### Аналитическое решение. \n",
    "\n",
    "$$ P_n(x) = 1.3 + 0.5x + 2.1x^2 + 5.7x^3+8.3x^4-3.7x^5 $$\n",
    "\n",
    "$$ F(x) =\\int_{}^{} (1.3 + 0.5x + 2.1*x^2 + 5.7x^3+8.3x^4-3.7x^5 ) dx = 1.3x + 0.25x^2 + 0.7x^3 +1.425x^4+1.66x^5 -\\frac{3.7}{6}x^6 + const $$\n",
    "$$ I = ( 1.3x + 0.25x^2 + 0.7x^3 +1.425x^4+1.66x^5 -\\frac{3.7}{6}x^6 )\\vert_{1}^{1.44}=F(1.44)-F(1) = 15.3878 - 4.71833 = 10.6695$$ \n",
    "\n",
    "Получаем 10.6695 - аналитическое решение. Будем считать данное значение истинным решением, которогое пригодится при поиске погрешностей. "
   ]
  },
  {
   "cell_type": "markdown",
   "metadata": {},
   "source": [
    "### Численное решение. "
   ]
  },
  {
   "cell_type": "code",
   "execution_count": 2,
   "metadata": {},
   "outputs": [],
   "source": [
    "def p_n(x):\n",
    "    #многочлен Р(х)\n",
    "    return 1.3 + 0.5*x + 2.1*x*x + 5.7*x*x*x+8.3*x*x*x*x-3.7*x*x*x*x*x\n",
    "\n",
    "a=1.0\n",
    "b=1.44"
   ]
  },
  {
   "cell_type": "code",
   "execution_count": 3,
   "metadata": {},
   "outputs": [
    {
     "data": {
      "text/plain": [
       "<matplotlib.legend.Legend at 0x7f0b8823de80>"
      ]
     },
     "execution_count": 3,
     "metadata": {},
     "output_type": "execute_result"
    },
    {
     "data": {
      "image/png": "[encoded data removed]",
      "text/plain": [
       "<Figure size 432x288 with 1 Axes>"
      ]
     },
     "metadata": {
      "needs_background": "light"
     },
     "output_type": "display_data"
    }
   ],
   "source": [
    "p_plot = np.linspace(1.00, 1.44, 100)\n",
    "y_plot =np.apply_along_axis(p_n, 0, p_plot)\n",
    "\n",
    "plt.plot(p_plot, y_plot, label = \"P(x)\")\n",
    "plt.xlabel(\"x\")\n",
    "plt.ylabel(\"P(x)\")\n",
    "plt.legend()"
   ]
  },
  {
   "cell_type": "markdown",
   "metadata": {},
   "source": [
    "#### Метод трапеций. \n",
    "##### Интегрирование на элементарном отрезке. \n",
    "Метод основан на простом применении формулы для площади трапеции — произведение полусуммы оснований, которыми в данном случае являются значения функции в крайних точках отрезка, на высоту (длину отрезка интегрирования).\n",
    "Если отрезок [ a , b ] является элементарным и не подвергается дальнейшему разбиению, значение интеграла можно найти по формуле:\n",
    "$$ I = \\int_{a}^{b} f(x) dx = \\frac{f(a)+f(b)}{2}(b-a) $$"
   ]
  },
  {
   "cell_type": "code",
   "execution_count": 4,
   "metadata": {},
   "outputs": [
    {
     "data": {
      "text/plain": [
       "<matplotlib.collections.PolyCollection at 0x7f0b603f4748>"
      ]
     },
     "execution_count": 4,
     "metadata": {},
     "output_type": "execute_result"
    },
    {
     "data": {
      "image/png": "[encoded data removed]",
      "text/plain": [
       "<Figure size 432x288 with 1 Axes>"
      ]
     },
     "metadata": {
      "needs_background": "light"
     },
     "output_type": "display_data"
    }
   ],
   "source": [
    "plt.plot(p_plot, y_plot, label = \"P(x)\")\n",
    "plt.xlabel(\"x\")\n",
    "plt.ylabel(\"P(x)\")\n",
    "plt.legend()\n",
    "plt.fill_between([a,b],[p_n(a),p_n(b)], alpha = 0.4)"
   ]
  },
  {
   "cell_type": "markdown",
   "metadata": {},
   "source": [
    "По графику видно кусок, который отразится в погрешности полученных результатов. "
   ]
  },
  {
   "cell_type": "code",
   "execution_count": 5,
   "metadata": {},
   "outputs": [],
   "source": [
    "def trapezi_elementary(f, a, b):\n",
    "    #это прямо формула трапеции \n",
    "    return (f(a)+f(b))/2*(b-a)"
   ]
  },
  {
   "cell_type": "code",
   "execution_count": 6,
   "metadata": {},
   "outputs": [
    {
     "name": "stdout",
     "output_type": "stream",
     "text": [
      "Значение интеграла I, когда отрезок [1.0, 1.44] является элементарным: \n",
      "11.0822194571264\n"
     ]
    }
   ],
   "source": [
    "integral_el_trap = trapezi_elementary(p_n, a, b)\n",
    "print(\"Значение интеграла I, когда отрезок [1.0, 1.44] является элементарным: \")\n",
    "print(integral_el_trap)"
   ]
  },
  {
   "cell_type": "code",
   "execution_count": 7,
   "metadata": {},
   "outputs": [
    {
     "name": "stdout",
     "output_type": "stream",
     "text": [
      "Величина погрешности:  0.4127194571263999\n"
     ]
    }
   ],
   "source": [
    "abs_error_trapezi = abs(10.6695  - integral_el_trap)\n",
    "print(\"Величина погрешности: \", abs_error_trapezi)"
   ]
  },
  {
   "cell_type": "markdown",
   "metadata": {},
   "source": [
    "#### Формула Симпсона.\n",
    "##### Интегрирование на элементарном отрезке.  \n",
    "Суть метода заключается в приближении подынтегральной функции на отрезке [ a , b ]  интерполяционным многочленом второй степени $p_2( x )$ , то есть приближение графика функции на отрезке параболой.\n",
    "\n",
    "Элементарная квадратурная формула: \n",
    "$$\\int_{a}^{b} f(x) dx = \\frac{(b-a)}{6}(f(a)+4f(\\frac{a+b}{2}) + f(b)) $$ "
   ]
  },
  {
   "cell_type": "markdown",
   "metadata": {},
   "source": [
    "Попробуем ради интереса провести параболу для нашего многочлена по трем точкам: а, b и середине отрезка интегрирования. "
   ]
  },
  {
   "cell_type": "code",
   "execution_count": 8,
   "metadata": {},
   "outputs": [
    {
     "data": {
      "text/plain": [
       "<matplotlib.legend.Legend at 0x7f0b6038ceb8>"
      ]
     },
     "execution_count": 8,
     "metadata": {},
     "output_type": "execute_result"
    },
    {
     "data": {
      "image/png": "[encoded data removed]",
      "text/plain": [
       "<Figure size 432x288 with 1 Axes>"
      ]
     },
     "metadata": {
      "needs_background": "light"
     },
     "output_type": "display_data"
    }
   ],
   "source": [
    "m =0.5*a+0.5*b\n",
    "fa = p_n(a)\n",
    "fb = p_n(b)\n",
    "fm  = p_n(m)\n",
    "A= [[a*a, a, 1],[m*m, m,1], [b*b,b,1] ]\n",
    "B = [fa, fm, fb]\n",
    "coefs = np.linalg.solve(A, B) # нашли коэффициенты параболы. \n",
    "\n",
    "def simp_f(x, params=coefs ):\n",
    "    return params[0]*x*x+params[1]*x+params[2]\n",
    "    \n",
    "    \n",
    "    \n",
    "simp_plot = np.linspace(1.00, 1.44, 200)\n",
    "\n",
    "simp_y_plot =np.apply_along_axis(simp_f, 0, simp_plot)\n",
    "\n",
    "plt.plot(p_plot, y_plot, label = \"P(x)\")\n",
    "plt.plot(simp_plot, simp_y_plot, label = \"Парабола для приближения\", alpha = 0.3)\n",
    "#plt.fill_between(simp_plot,simp_y_plot, alpha = 0.4)\n",
    "plt.xlabel(\"x\")\n",
    "plt.ylabel(\"P(x)\")\n",
    "plt.legend()\n",
    "#plt.plot(simp_plot, simp_y_plot, label = \"Парабола для приближения\")\n",
    "#plt.fill_between(simp_plot,simp_y_plot, alpha = 0.4)"
   ]
  },
  {
   "cell_type": "markdown",
   "metadata": {},
   "source": [
    "Должна получиться неплохая точность. "
   ]
  },
  {
   "cell_type": "code",
   "execution_count": 9,
   "metadata": {},
   "outputs": [],
   "source": [
    "def simpson_elementary(f, a, b):\n",
    "    #сама формула симпсона \n",
    "    return (b-a)/6*(f(a)+f(b)+4*f((a+b)/2))"
   ]
  },
  {
   "cell_type": "code",
   "execution_count": 10,
   "metadata": {},
   "outputs": [
    {
     "name": "stdout",
     "output_type": "stream",
     "text": [
      "Значение интеграла I, когда отрезок [1.0, 1.44] является элементарным: \n",
      "10.667554023995732\n"
     ]
    }
   ],
   "source": [
    "integral_el_simp = simpson_elementary(p_n, a, b)\n",
    "print(\"Значение интеграла I, когда отрезок [1.0, 1.44] является элементарным: \")\n",
    "print(integral_el_simp)"
   ]
  },
  {
   "cell_type": "code",
   "execution_count": 11,
   "metadata": {},
   "outputs": [
    {
     "name": "stdout",
     "output_type": "stream",
     "text": [
      "Величина погрешности:  0.001945976004266825\n"
     ]
    }
   ],
   "source": [
    "abs_error_simp = abs(10.6695  - integral_el_simp)\n",
    "print(\"Величина погрешности: \", abs_error_simp)"
   ]
  },
  {
   "cell_type": "markdown",
   "metadata": {},
   "source": [
    "#### Текущие результаты. \n",
    "На данном этапе результат, полученный методом трапеций, дает достаточную погрешность. Метод Симпсона позволил получить результат с большей точностью. "
   ]
  },
  {
   "cell_type": "markdown",
   "metadata": {},
   "source": [
    "##### Составная Квадратурная формула трапеций \n",
    "Если отрезок [ a , b ]  разбивается узлами интегрирования на n равных отрезков длиной h (равномерная сетка) и на каждом из элементарных отрезков применяется формула трапеций, то получается составная квадратурная формула трапеций: \n",
    "$$ I = \\int_{a}^{b} f(x) dx = (\\sum_{i=1}^{n-1} f_i + \\frac{f_0+f_n}{2})h $$\n",
    "Предполагаем, что $f(x)=P_n(x)$ - дважды непрерывно диффиренцируемая функция (так и есть в нашем случае). \n",
    "Остаточный член:\n",
    "$$R =<= \\frac{M_2*(b-a)}{12} h^2, $$ где $M_2$ - максимальное значение второй производной f''(x) на отрезке [ a , b ]. \n",
    "Метод имеет второй порядок точности относительно h. \n",
    "$$ f''(x) = 4.2 + 34.2 x + 99.6 x^2 - 74 x^3 $$\n"
   ]
  },
  {
   "cell_type": "code",
   "execution_count": 12,
   "metadata": {},
   "outputs": [
    {
     "data": {
      "text/plain": [
       "<matplotlib.legend.Legend at 0x7f0b602e7710>"
      ]
     },
     "execution_count": 12,
     "metadata": {},
     "output_type": "execute_result"
    },
    {
     "data": {
      "image/png": "[encoded data removed]",
      "text/plain": [
       "<Figure size 432x288 with 1 Axes>"
      ]
     },
     "metadata": {
      "needs_background": "light"
     },
     "output_type": "display_data"
    }
   ],
   "source": [
    "def m_2(x):\n",
    "    #вторая производная \n",
    "    return 4.2 + 34.2*x + 99.6*x**2-74*x**3\n",
    "\n",
    "mp_plot = np.linspace(1.00, 1.44, 2000)\n",
    "my_plot =np.apply_along_axis(m_2, 0, mp_plot) # значения второй произодной на отрезке \n",
    "\n",
    "plt.plot(mp_plot[:200], my_plot[:200], label = \"График второй производной\") #левый кусок\n",
    "plt.xlabel(\"x\")\n",
    "plt.ylabel(\"P''(x)\")\n",
    "plt.legend()"
   ]
  },
  {
   "cell_type": "code",
   "execution_count": 13,
   "metadata": {},
   "outputs": [
    {
     "data": {
      "text/plain": [
       "<matplotlib.legend.Legend at 0x7f0b6038c0f0>"
      ]
     },
     "execution_count": 13,
     "metadata": {},
     "output_type": "execute_result"
    },
    {
     "data": {
      "image/png": "[encoded data removed]",
      "text/plain": [
       "<Figure size 432x288 with 1 Axes>"
      ]
     },
     "metadata": {
      "needs_background": "light"
     },
     "output_type": "display_data"
    }
   ],
   "source": [
    "plt.plot(mp_plot, my_plot, label = \"График второй производной\") # весь отрезок \n",
    "plt.xlabel(\"x\") \n",
    "plt.ylabel(\"P''(x)\")\n",
    "plt.legend()"
   ]
  },
  {
   "cell_type": "markdown",
   "metadata": {},
   "source": [
    "Как видно по графику, функция не ведет себя монотонно на отрезке [1, 1.44] $ \\implies $ Максимальное значение  найдем численно. "
   ]
  },
  {
   "cell_type": "code",
   "execution_count": 14,
   "metadata": {},
   "outputs": [
    {
     "name": "stdout",
     "output_type": "stream",
     "text": [
      "Максимальное значение производной на отрезке:  64.25840421581307\n"
     ]
    }
   ],
   "source": [
    "print(\"Максимальное значение производной на отрезке: \", max(my_plot))"
   ]
  },
  {
   "cell_type": "markdown",
   "metadata": {},
   "source": [
    "##### Выбираем нужный шаг h.\n",
    "Желаемая точность: 0.0001.\n",
    "$$ \\frac{M_2*(b-a)}{12} h^2 = \\frac{M_2*(1.44-1.0)}{12} h^2 < 0.0001$$"
   ]
  },
  {
   "cell_type": "code",
   "execution_count": 15,
   "metadata": {},
   "outputs": [
    {
     "name": "stdout",
     "output_type": "stream",
     "text": [
      "Подходящее h:  0.006514773433595207\n",
      "примерное число отрезков:  67.53880307349138\n"
     ]
    }
   ],
   "source": [
    "h = sqrt(12.0/max(my_plot)/(b-a))*1e-2 # h>0\n",
    "#это решение неравенства \n",
    "print(\"Подходящее h: \", h)\n",
    "print(\"примерное число отрезков: \", (b-a)/h)"
   ]
  },
  {
   "cell_type": "markdown",
   "metadata": {},
   "source": [
    "Будем делить наш отрезок на 68 отрезков для получения желаемой точности. "
   ]
  },
  {
   "cell_type": "code",
   "execution_count": 16,
   "metadata": {},
   "outputs": [
    {
     "name": "stdout",
     "output_type": "stream",
     "text": [
      "возьмем такое h:  0.006470588235294117\n"
     ]
    }
   ],
   "source": [
    "new_h = (b-a)/68.0\n",
    "print(\"возьмем такое h: \", new_h)"
   ]
  },
  {
   "cell_type": "markdown",
   "metadata": {},
   "source": [
    "##### Вычислим значение интеграла "
   ]
  },
  {
   "cell_type": "code",
   "execution_count": 17,
   "metadata": {},
   "outputs": [],
   "source": [
    "def trapezi_all(f, a, b, n):\n",
    "    h = float(b-a)/n # тут будет h для 68 отрезков \n",
    "    trapezi = f(a)/2.0 +f(b)/2.0 # отдельно обрабатывем значения на концах отрезка\n",
    "    for i in range(1, n):\n",
    "        trapezi += f(a + i*h) #все остальное \n",
    "    trapezi *= h \n",
    "    return trapezi"
   ]
  },
  {
   "cell_type": "code",
   "execution_count": 18,
   "metadata": {},
   "outputs": [
    {
     "name": "stdout",
     "output_type": "stream",
     "text": [
      "ПОлученный результат:  10.669602709309162\n",
      "Величина погрешности:  0.00010270930916256304\n"
     ]
    }
   ],
   "source": [
    "trapezi_all_I = trapezi_all(p_n, a, b, 68)\n",
    "print(\"ПОлученный результат: \", trapezi_all_I)\n",
    "abs_error_tr_all = abs(10.6695  -     trapezi_all_I)\n",
    "print(\"Величина погрешности: \", abs_error_tr_all)"
   ]
  },
  {
   "cell_type": "markdown",
   "metadata": {},
   "source": [
    "Метод трапеций позволил найти численно значение интеграла с нужной точностью. "
   ]
  },
  {
   "cell_type": "markdown",
   "metadata": {},
   "source": [
    "\n",
    "##### Составная Квадратурная формула Симпсона \n",
    "Если отрезок [ a , b ]  разбивается узлами интегрирования на n равных отрезков длиной h  и на каждом из элементарных отрезков применяется формула Симпосона, то получается следующая квадратурная формула: \n",
    "$$ I = \\frac{h}{6} (f_0+f_n + 4\\sum_{i=1}^{n} f_{i-1/2} + 2\\sum_{i=1}^{n-1} f_{i}    )$$\n",
    "Где  $f_{i-1/2} = f(\\frac{x_i+x_{i-1}}{2})$\n",
    "\n",
    "Предполагаем, что у нашей функции есть четвертая производная (так и есть). Остаточный член: \n",
    "$$ R = \\frac{M_4(b-a)h^4}{2880} $$ \n",
    "где $M_4$ - максимальное значение четвертой производной интегрируемой функции. \n",
    "$$ P^{(4)}(x) =  199.2 - 444 x $$ \n",
    "Это линейная функция, убывающая, принимающая на отрезке интегрирования отрицательные значения $ \\implies $ максимальное значение модуля функции будет в конце отрезка - в точке b. \n",
    "Для поиска нужного h: \n",
    "$$ R = \\frac{P^{(4)}(a)(b-a)h^4}{2880} <0.0001 $$ \n",
    "Метод имеет четвертый порядок точности относительно h. \n",
    "\n",
    "Составная квадратурная формула Симпсона для четного количества разбиаения отрезков (n):\n",
    "$$ I = \\frac{h}{3}\\sum_{i=1}^{n/2} ( f(x_{2i-2}) +4f(x_{2i-1})  +f(x_{2i})  )$$\n",
    "Будем использовать последнюю формулу."
   ]
  },
  {
   "cell_type": "code",
   "execution_count": 19,
   "metadata": {},
   "outputs": [
    {
     "name": "stdout",
     "output_type": "stream",
     "text": [
      "Найденный h : 0.19637324174824447\n",
      "Число отрезков для такого h  :  3\n"
     ]
    }
   ],
   "source": [
    "p_4_max = abs(199.2-444*b) #максимальное значение четвертой производной \n",
    "h_s = (0.288/p_4_max/(b-a)) **0.25\n",
    "print(\"Найденный h :\", h_s)\n",
    "print(\"Число отрезков для такого h  : \", int((b-a)/h_s)+1)"
   ]
  },
  {
   "cell_type": "markdown",
   "metadata": {},
   "source": [
    "Мы будем делить на 4 отрезка, так как 3 - нечетное число. "
   ]
  },
  {
   "cell_type": "code",
   "execution_count": 20,
   "metadata": {},
   "outputs": [],
   "source": [
    "def simpson_all(f,a,b, n):\n",
    "    \n",
    "    h = float((b-a)/n) # шаг для необходимого числа отрезков \n",
    "    x = np.linspace(a,b, n+1)\n",
    "    pn = np.apply_along_axis(p_n, 0, x)\n",
    "    simpson= h/3.0 * np.sum(pn[0:-1:2] + 4*pn[1::2] + pn[2::2])  # это сама формула (суммирование)\n",
    "    # засчет индексации нужные слагаемые учитываются нужное число раз \n",
    "    return simpson"
   ]
  },
  {
   "cell_type": "code",
   "execution_count": 21,
   "metadata": {},
   "outputs": [
    {
     "name": "stdout",
     "output_type": "stream",
     "text": [
      "ПОлученный результат:  10.669392582211731\n",
      "Величина погрешности:  0.00010741778826783843\n"
     ]
    }
   ],
   "source": [
    "simps_all_result = simpson_all(p_n, a, b, 4)\n",
    "print(\"ПОлученный результат: \", simps_all_result)\n",
    "abs_error_tr_all = abs(10.6695  -     simps_all_result)\n",
    "print(\"Величина погрешности: \", abs_error_tr_all)"
   ]
  },
  {
   "cell_type": "markdown",
   "metadata": {},
   "source": [
    "Метод Симпсона тоже позволил вычислить интеграл численно с нужной точностью. Можно заметить, что для метода Симпсона отрезок интегрирования делился на меньшее число отрезков, чем это было в методе трапеций для получения той же точности. Причина - метод Симпсона обладает четвертым порядком точности относительно постоянного шага интегрирования, а метод трапеций - вторым порядком. "
   ]
  },
  {
   "cell_type": "markdown",
   "metadata": {},
   "source": [
    "### Задача 8.3 \n",
    "\n",
    "$$ I = \\int_{a}^{b} f(x) dx$$\n",
    "$$ f(x) = (x^2-2x^3)cos(x^2), a=-3.0, b=0 $$"
   ]
  },
  {
   "cell_type": "markdown",
   "metadata": {},
   "source": [
    "### Аналитическое решение \n",
    "\n",
    "$$ I = \\int_{-3}^{0}  (x^2-2x^3)cos(x^2)dx = 2.02933$$\n",
    "Тут в примере возникают $ cos(x^2) $ под интеграла -  куски функций Френеля и интегрировать их такое себе. Наконец-то численное решение будет реально полезно!  \n",
    "\n",
    "### Формула центральных прямоугольников. \n",
    "Метод заключается в приближённом вычислении площади под графиком суммированием площадей конечного числа прямоугольников, ширина которых будет определяться расстоянием между соответствующими соседними узлами интегрирования ( в нашем случае все расстояния равны). В случае центральных высота прямоугольника проводится до значения функции в середине отрезка. \n",
    "\n",
    "На элементарном отрезке интегрирования для центральных прямоугольников:\n",
    "$$ I = \\int_{a}^{b} f(x) dx = f(\\frac{a+b}{2})(b-a) $$\n",
    "\n",
    "Абсолютная теоретическая погрешность:\n",
    "$$ R = \\frac{M_2(b-a)h^2}{24} $$\n",
    "Тут $M_2$ - максимальное значение произодной на отрезке интегрирования. \n",
    "$$ f''(x) = 2 ((1 - 6 x - 2 x^4 + 4 x^5) cos(x^2) + x^2 (-5 + 14 x) sin(x^2)) $$\n",
    "Второй порядок точности относительно h.\n",
    "Будем применять метод, каждый раз поделив отрезок интегрирования на 2,3,..20 частей. "
   ]
  },
  {
   "cell_type": "code",
   "execution_count": 22,
   "metadata": {},
   "outputs": [],
   "source": [
    "def rectangle(f, a, b, n):\n",
    "    h = float((b-a)/n) # шаг h для нужного количества\n",
    "    rectangle_r = 0\n",
    "    for i in range(n):\n",
    "        rectangle_r += f((a + 0.5*h) + i*h) #это слагаемое - один прямоугольник \n",
    "    rectangle_r *= h\n",
    "    return rectangle_r\n",
    "\n",
    "def f_x(x):\n",
    "    # интегрируемая функция\n",
    "    return (x**2-2*x**3)*cos(x**2) \n",
    "    \n",
    "def derivative(x):\n",
    "    # вторая производная для численного поиска \n",
    "    return 2*((1 - 6*x - 2*x**4 + 4*x**5)*cos(x**2) + x**2*(-5 + 14*x)*sin(x**2))\n",
    "a=-3.0\n",
    "b=0.0"
   ]
  },
  {
   "cell_type": "code",
   "execution_count": 23,
   "metadata": {},
   "outputs": [
    {
     "data": {
      "text/plain": [
       "<matplotlib.legend.Legend at 0x7f0b60266a20>"
      ]
     },
     "execution_count": 23,
     "metadata": {},
     "output_type": "execute_result"
    },
    {
     "data": {
      "image/png": "[encoded data removed]",
      "text/plain": [
       "<Figure size 432x288 with 1 Axes>"
      ]
     },
     "metadata": {
      "needs_background": "light"
     },
     "output_type": "display_data"
    }
   ],
   "source": [
    "dmp_plot = np.linspace(-3.0, 0.0, 2000)\n",
    "#dmy_plot =np.apply_along_axis(derivative, 0, dmp_plot) # значения второй произодной на отрезке \n",
    "dmy_plot  = np.zeros(2000)\n",
    "for i in range(len(dmp_plot)):\n",
    "    dmy_plot[i] = derivative(dmp_plot[i])\n",
    "plt.plot(dmp_plot, dmy_plot, label = \"График второй производной\") \n",
    "plt.xlabel(\"x\")\n",
    "plt.ylabel(\"f''(x)\")\n",
    "plt.legend()"
   ]
  },
  {
   "cell_type": "markdown",
   "metadata": {},
   "source": [
    "Точно придется искать максимум модуля второй производной численно. "
   ]
  },
  {
   "cell_type": "code",
   "execution_count": 24,
   "metadata": {},
   "outputs": [
    {
     "name": "stdout",
     "output_type": "stream",
     "text": [
      "Максимальное значение второй производной : 1683.1682454883035\n"
     ]
    }
   ],
   "source": [
    "theor = [] # Массив из теоретических погрешностей\n",
    "practical = [] # из практических \n",
    "plot_i = []\n",
    "max_m_2 = np.max(np.abs(dmy_plot))\n",
    "print(\"Максимальное значение второй производной :\", max_m_2)\n",
    "for i in range(2, 21):\n",
    "    plot_i.append(i)\n",
    "    result = rectangle(f_x,a,b, i)\n",
    "\n",
    "    practical.append(abs(2.02933-result))\n",
    "    theor.append(max_m_2*(b-a)**3/i/i/24.0) #чтобы использовать i "
   ]
  },
  {
   "cell_type": "code",
   "execution_count": 25,
   "metadata": {},
   "outputs": [
    {
     "data": {
      "text/plain": [
       "<matplotlib.legend.Legend at 0x7f0b601abd30>"
      ]
     },
     "execution_count": 25,
     "metadata": {},
     "output_type": "execute_result"
    },
    {
     "data": {
      "image/png": "[encoded data removed]",
      "text/plain": [
       "<Figure size 432x288 with 1 Axes>"
      ]
     },
     "metadata": {
      "needs_background": "light"
     },
     "output_type": "display_data"
    }
   ],
   "source": [
    "plt.plot(plot_i, practical, label = \"Погрешность реализованного метода\") \n",
    "plt.plot(plot_i, theor, label = \"Теоретическая погрешность\")\n",
    "plt.xlabel(\"ЧИсло делений отрезка\")\n",
    "plt.ylabel(\"Погрешность\")\n",
    "plt.legend()"
   ]
  },
  {
   "cell_type": "markdown",
   "metadata": {},
   "source": [
    "По графику теоретической погрешности видно, что чем больше делений (меньше шаг), тем меньше погрешность. \n",
    "Погрешность реализованного  метода  метода имеет небольшое возвышение и медленное уменьшение значения. \n",
    "Погрешность реализованного метода во всех случаях меньше теоретической. "
   ]
  },
  {
   "cell_type": "code",
   "execution_count": 26,
   "metadata": {},
   "outputs": [
    {
     "data": {
      "image/png": "[encoded data removed]",
      "text/plain": [
       "<Figure size 432x288 with 1 Axes>"
      ]
     },
     "metadata": {
      "needs_background": "light"
     },
     "output_type": "display_data"
    }
   ],
   "source": [
    "check_x = np.linspace(-3.0, 0.0, 4)\n",
    "\n",
    "x_plot = np.linspace(-3.0, 0.0, 200)\n",
    "line = []\n",
    "for i in range(len(x_plot)):\n",
    "    line.append(f_x(x_plot[i]))\n",
    "\n",
    "\n",
    "\n",
    "plt.plot(x_plot, line, label = \"f(x)\")\n",
    "plt.xlabel(\"x\")\n",
    "plt.ylabel(\"f(x)\")\n",
    "\n",
    "#plt.fill_between([a,b],[p_n(a),p_n(b)], alpha = 0.4)\n",
    "for i in range(1,len(check_x)):\n",
    "    value = f_x((check_x[i-1]+check_x[i])/2.0)\n",
    "    plt.fill_between([check_x[i-1], check_x[i] ], [value, value], alpha = 0.5)\n",
    "\n",
    "plt.title(\"Деление на три отрезка\")\n",
    "plt.legend()\n",
    "plt.show()"
   ]
  },
  {
   "cell_type": "markdown",
   "metadata": {},
   "source": [
    "Видно, что при делении на три отрезка получается очень грубое приближение."
   ]
  },
  {
   "cell_type": "code",
   "execution_count": 27,
   "metadata": {},
   "outputs": [
    {
     "data": {
      "image/png": "[encoded data removed]",
      "text/plain": [
       "<Figure size 432x288 with 1 Axes>"
      ]
     },
     "metadata": {
      "needs_background": "light"
     },
     "output_type": "display_data"
    }
   ],
   "source": [
    "check_x = np.linspace(-3.0, 0.0, 3)\n",
    "\n",
    "x_plot = np.linspace(-3.0, 0.0, 200)\n",
    "line = []\n",
    "for i in range(len(x_plot)):\n",
    "    line.append(f_x(x_plot[i]))\n",
    "\n",
    "plt.plot(x_plot, line, label = \"f(x)\")\n",
    "plt.xlabel(\"x\")\n",
    "plt.ylabel(\"f(x)\")\n",
    "\n",
    "#plt.fill_between([a,b],[p_n(a),p_n(b)], alpha = 0.4)\n",
    "for i in range(1,len(check_x)):\n",
    "    value = f_x((check_x[i-1]+check_x[i])/2.0)\n",
    "    plt.fill_between([check_x[i-1], check_x[i] ], [value, value], alpha = 0.5)\n",
    "\n",
    "plt.title(\"Деление на два отрезка\")\n",
    "plt.legend()\n",
    "plt.show()\n",
    "\n",
    "# тут второй прямоугольник совсем узкий"
   ]
  },
  {
   "cell_type": "markdown",
   "metadata": {},
   "source": [
    "Такое деление дало результат получше, чем деление на три отрезка. Но это просто случайность ( и причина возвышения графика полученной погрешности реализованного метода)."
   ]
  },
  {
   "cell_type": "code",
   "execution_count": 28,
   "metadata": {},
   "outputs": [
    {
     "data": {
      "image/png": "[encoded data removed]",
      "text/plain": [
       "<Figure size 432x288 with 1 Axes>"
      ]
     },
     "metadata": {
      "needs_background": "light"
     },
     "output_type": "display_data"
    }
   ],
   "source": [
    "check_x = np.linspace(-3.0, 0.0, 21)\n",
    "\n",
    "x_plot = np.linspace(-3.0, 0.0, 200)\n",
    "line = []\n",
    "for i in range(len(x_plot)):\n",
    "    line.append(f_x(x_plot[i]))\n",
    "\n",
    "\n",
    "\n",
    "\n",
    "plt.plot(x_plot, line, label = \"f(x)\")\n",
    "plt.xlabel(\"x\")\n",
    "plt.ylabel(\"f(x)\")\n",
    "\n",
    "#plt.fill_between([a,b],[p_n(a),p_n(b)], alpha = 0.4)\n",
    "for i in range(1,len(check_x)):\n",
    "    value = f_x((check_x[i-1]+check_x[i])/2.0)\n",
    "    plt.fill_between([check_x[i-1], check_x[i] ], [value, value], alpha = 0.5)\n",
    "\n",
    "plt.title(\"Деление на 20 отрезков\")\n",
    "plt.legend()\n",
    "plt.show()\n"
   ]
  },
  {
   "cell_type": "markdown",
   "metadata": {},
   "source": [
    "А так уже неплохо:)"
   ]
  },
  {
   "cell_type": "code",
   "execution_count": null,
   "metadata": {},
   "outputs": [],
   "source": []
  }
 ],
 "metadata": {
  "kernelspec": {
   "display_name": "Python 3",
   "language": "python",
   "name": "python3"
  },
  "language_info": {
   "codemirror_mode": {
    "name": "ipython",
    "version": 3
   },
   "file_extension": ".py",
   "mimetype": "text/x-python",
   "name": "python",
   "nbconvert_exporter": "python",
   "pygments_lexer": "ipython3",
   "version": "3.7.3"
  }
 },
 "nbformat": 4,
 "nbformat_minor": 2
}
