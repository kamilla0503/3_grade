{
 "cells": [
  {
   "cell_type": "code",
   "execution_count": 63,
   "metadata": {},
   "outputs": [],
   "source": [
    "from matplotlib import pyplot as plt \n",
    "import numpy as np \n",
    "from math import log, exp, sinh, cosh, log10\n",
    "from scipy.optimize import bisect "
   ]
  },
  {
   "cell_type": "markdown",
   "metadata": {},
   "source": [
    "# Задание 1.\n",
    "\n",
    " $$ \\varepsilon = 10^{-10} $$"
   ]
  },
  {
   "cell_type": "code",
   "execution_count": 10,
   "metadata": {},
   "outputs": [],
   "source": [
    "a=0.01\n",
    "b=3.0\n",
    "e= 1e-10 "
   ]
  },
  {
   "cell_type": "markdown",
   "metadata": {},
   "source": [
    "Функция bisec с помощью метода бисекции находит приближенное решение уравнения с заданной точностью  на локализованном отрезке."
   ]
  },
  {
   "cell_type": "code",
   "execution_count": 7,
   "metadata": {},
   "outputs": [],
   "source": [
    "def bisec(f, a, b, e):\n",
    "    an=a\n",
    "    bn=b \n",
    "    k=0 \n",
    "    while abs(an-bn)>2*e:\n",
    "        xn = (an+bn)/2\n",
    "        f_an = f(an)\n",
    "        f_bn = f(bn)\n",
    "        f_xn = f(xn)\n",
    "        if ( f_an*f_xn<=0):\n",
    "            bn=xn\n",
    "        else:\n",
    "            an = xn \n",
    "        k+=1        \n",
    "    xn = (an+bn)/2 #result \n",
    "    \n",
    "\n",
    "    return xn, k\n",
    "    "
   ]
  },
  {
   "cell_type": "markdown",
   "metadata": {},
   "source": [
    "Функция Task1 вызывает функцию bisec выбранное число решений. \n",
    "Аргмент bisect_use нужен для того,чтобы вызывать метод bisect из scipy в случае корней нечетной кратности. Иначе данный метод не работает. \n",
    "Поэтому выставляем значение bisect_use равным False, когда подозреваем корень в нечетной кратности. \n",
    "Аргумент bisect_use = True по умолчания. "
   ]
  },
  {
   "cell_type": "code",
   "execution_count": 8,
   "metadata": {},
   "outputs": [],
   "source": [
    "def Task1(f, a, b, e, bisect_use=True):\n",
    "    x = np.linspace(a, b, 100)\n",
    "    y = np.zeros( 100)\n",
    "    for i in range(100):\n",
    "        y[i]= f(x[i])\n",
    "        \n",
    "    plt.plot(x, y, '-')\n",
    "    plt.plot(x, [0 for i in range(100)], '-')\n",
    "    plt.show()\n",
    "    local = []\n",
    "    k= 0 \n",
    "    print(\"Сколько решений содержится на заданном отрезке?\")\n",
    "    n=int(input())\n",
    "    print(\"\\n\")\n",
    "    print(\"Локализация корней\")\n",
    "    for i in range(n):\n",
    "        print(\"Корень \", (i+1))\n",
    "        print(\"a=\", end =\" \")\n",
    "        a=float(input())\n",
    "        print(\"b=\", end =\" \")\n",
    "        b=float(input())\n",
    "        local.append((a, b))\n",
    "    \n",
    "    results = []\n",
    "    scs = []\n",
    "    for i in range(n):\n",
    "        xn, k = bisec(f, local[i][0], local[i][1], e)\n",
    "        print(\"Результаты для корня \", (i+1))\n",
    "        print (\"результат моего алгоритма: \", xn)\n",
    "        print(\"число итераций : \", k)\n",
    "        if(bisect_use):\n",
    "            sc = bisect(f, a=local[i][0], b=local[i][1], xtol=e)\n",
    "            print( \"scipy result :\", sc)\n",
    "            scs.append(sc)\n",
    "        results.append(xn)\n",
    "        \n",
    "        \n",
    "    plt.plot(x, y, '-') \n",
    "    plt.plot(x, [0 for i in range(100)], '-')\n",
    "    plt.plot(results, [0 for i in range(n)], \".\") #найденные решения \n",
    "        \n",
    "\n",
    "        "
   ]
  },
  {
   "cell_type": "markdown",
   "metadata": {},
   "source": [
    "$$ f(x)=0  $$\n",
    "$$ f(x)= (lg(x))^{2} + \\frac {3}{4}\\ lg(x) - \\frac {1}{4}\\ $$"
   ]
  },
  {
   "cell_type": "markdown",
   "metadata": {},
   "source": [
    "# Аналитическое решение.\n",
    "При замене q=lg(x) находим q=-1 и q=1/4.\n",
    "$$ x1 = 0.1 $$\n",
    "$$ x2 = 10^{ \\frac {1}{4}\\ }  \\approx 1.7782794100389228   $$\n",
    "\n",
    "Оба корня принадлежат отрезку [0.01, 3 ] \n",
    "\n",
    "$$ f'(x) = \\frac {8ln(x)+ln(1000)}{4x(ln(10))^{2}}  \\  $$ \n",
    "\n",
    "$$ f'(x) = 0  \\Leftrightarrow x = \\frac {1}{10^{ \\frac {3}{8}\\ }} $$\n",
    "Отсюда делаем вывод, что оба корня на отрезке [0.01, 3 ] простые и ожидаем хороших результатов. "
   ]
  },
  {
   "cell_type": "code",
   "execution_count": 5,
   "metadata": {},
   "outputs": [],
   "source": [
    "def f(x):    \n",
    "    return (log10(x))**2+3/4*log10(x)-1/4"
   ]
  },
  {
   "cell_type": "code",
   "execution_count": 11,
   "metadata": {},
   "outputs": [
    {
     "data": {
      "image/png": "[encoded data removed]",
      "text/plain": [
       "<Figure size 432x288 with 1 Axes>"
      ]
     },
     "metadata": {
      "needs_background": "light"
     },
     "output_type": "display_data"
    },
    {
     "name": "stdout",
     "output_type": "stream",
     "text": [
      "Сколько решений содержится на заданном отрезке?\n",
      "2\n",
      "\n",
      "\n",
      "Локализация корней\n",
      "Корень  1\n",
      "a= 0.01\n",
      "b= 0.5\n",
      "Корень  2\n",
      "a= 1.5\n",
      "b= 2.0\n",
      "Результаты для корня  1\n",
      "результат моего алгоритма:  0.10000000003841705\n",
      "число итераций :  32\n",
      "scipy result : 0.10000000003841704\n",
      "Результаты для корня  2\n",
      "результат моего алгоритма:  1.7782794100348838\n",
      "число итераций :  32\n",
      "scipy result : 1.7782794100348838\n"
     ]
    },
    {
     "data": {
      "image/png": "[encoded data removed]",
      "text/plain": [
       "<Figure size 432x288 with 1 Axes>"
      ]
     },
     "metadata": {
      "needs_background": "light"
     },
     "output_type": "display_data"
    }
   ],
   "source": [
    "\n",
    "Task1(f, a, b,e, True)"
   ]
  },
  {
   "cell_type": "markdown",
   "metadata": {},
   "source": [
    "На графике отмечена найденные решения. \n",
    "Оба корня найдены с соотвествующей точностью. \n",
    "Результат соотвутствует аналитическому решению."
   ]
  },
  {
   "cell_type": "markdown",
   "metadata": {},
   "source": [
    "$$ g(x)= (lg(x))^{2} + 2lg(x)+1 $$\n",
    "$$ g(x)=0  $$"
   ]
  },
  {
   "cell_type": "markdown",
   "metadata": {},
   "source": [
    "# Аналитическое решение. \n",
    "Заменой q=lg(x) получаем q = -1. Отсюда \n",
    " $$ x= \\frac{1}{10} \\ $$ \n",
    "    \n",
    "$$ g'(x) = \\frac {2ln(10x)}{x*(ln(10))^{2}}\\ $$\n",
    "$$ g'(x) = 0  \\Leftrightarrow x = \\frac {1}{10} $$\n",
    "$$ g''(x) =  \\frac {2-2ln(10x)}{x^{2}*(ln(10))^2}   \\  $$\n",
    "$$ g''(x) = 0  \\Leftrightarrow  x = \\frac {e}{10}  \\  $$\n",
    "\n",
    "Следовательно, единственный корень, который принадоежит отрезку [0.01, 3 ], не является простым. Кратность корня = 2 (четная кратность). \n",
    "\n",
    "Не ждем хороших результатов от метода бисекции, так как он работает для корней нечетной кратности. "
   ]
  },
  {
   "cell_type": "code",
   "execution_count": 13,
   "metadata": {},
   "outputs": [],
   "source": [
    "def g(x):\n",
    "    return (log10(x))**2+2*log10(x)+1 "
   ]
  },
  {
   "cell_type": "markdown",
   "metadata": {},
   "source": [
    "# Численное решение "
   ]
  },
  {
   "cell_type": "code",
   "execution_count": 14,
   "metadata": {},
   "outputs": [
    {
     "data": {
      "image/png": "[encoded data removed]",
      "text/plain": [
       "<Figure size 432x288 with 1 Axes>"
      ]
     },
     "metadata": {
      "needs_background": "light"
     },
     "output_type": "display_data"
    },
    {
     "name": "stdout",
     "output_type": "stream",
     "text": [
      "Сколько решений содержится на заданном отрезке?\n",
      "1\n",
      "\n",
      "\n",
      "Локализация корней\n",
      "Корень  1\n",
      "a= 0.01\n",
      "b= 0.5\n",
      "Результаты для корня  1\n",
      "результат моего алгоритма:  0.4999999999429565\n",
      "число итераций :  32\n"
     ]
    },
    {
     "data": {
      "image/png": "[encoded data removed]",
      "text/plain": [
       "<Figure size 432x288 with 1 Axes>"
      ]
     },
     "metadata": {
      "needs_background": "light"
     },
     "output_type": "display_data"
    }
   ],
   "source": [
    "Task1(g, a, b,e, False)"
   ]
  },
  {
   "cell_type": "markdown",
   "metadata": {},
   "source": [
    "По графику видно, что это решение сильно дальше от истинного корня, расстояние сильно больше заданной точности. \n",
    "Результат не сходится с найденным аналитически решением. \n",
    "Причина неудачи - искомый корень четной кратности, в то время как метод бисекции следует применять для корней нечетной кратности. "
   ]
  },
  {
   "cell_type": "markdown",
   "metadata": {},
   "source": [
    "# Задание 2 \n",
    "\n",
    " $$ \\varepsilon = 10^{-6} $$\n",
    " $$ f(x) = (x+1)e^{x+1} -x -2 $$\n",
    " Найти корень наибольший по модулю."
   ]
  },
  {
   "cell_type": "code",
   "execution_count": 38,
   "metadata": {},
   "outputs": [],
   "source": [
    "e1= 1e-6\n",
    "def f_1(x):\n",
    "    return (x+1)*exp(x+1)-x-2\n"
   ]
  },
  {
   "cell_type": "markdown",
   "metadata": {},
   "source": [
    "Сначала изобразим график функции, чтобы локализовать корень, наибольший по модулю, для метода бисекции. \n",
    "Метод бисекции был реализован в предыдущем задании."
   ]
  },
  {
   "cell_type": "code",
   "execution_count": 24,
   "metadata": {},
   "outputs": [
    {
     "data": {
      "image/png": "[encoded data removed]",
      "text/plain": [
       "<Figure size 432x288 with 1 Axes>"
      ]
     },
     "metadata": {
      "needs_background": "light"
     },
     "output_type": "display_data"
    }
   ],
   "source": [
    "x_2 = np.linspace(-3, 1, 200)\n",
    "y_2 = np.zeros( 200)\n",
    "for i in range(len(x_2)):\n",
    "    y_2[i]= f_1(x_2[i])\n",
    "plt.plot(x_2, y_2, '-')\n",
    "plt.plot(x_2, [0 for i in range(len(x_2))], '-')\n",
    "plt.show()"
   ]
  },
  {
   "cell_type": "markdown",
   "metadata": {},
   "source": [
    "Уравнение имеет два решения. За пределами изображенного отрезка корней нет.\n",
    "Наибольший по модулю корень - левый. \n",
    "локализуем его следующим образом: \n",
    "a = -2.5\n",
    "b = -2.0\n",
    "\n",
    "\n",
    "Численное решение методом бисекции: "
   ]
  },
  {
   "cell_type": "code",
   "execution_count": 39,
   "metadata": {},
   "outputs": [
    {
     "name": "stdout",
     "output_type": "stream",
     "text": [
      "x* :  -2.3499765396118164\n",
      "число итераций :  18\n"
     ]
    }
   ],
   "source": [
    "a0=-2.5\n",
    "b0=-2.0\n",
    "x_sol, k2 =  bisec(f_1, a0, b0, e1)\n",
    "print(\"x* : \", x_sol)\n",
    "print(\"число итераций : \", k2)"
   ]
  },
  {
   "cell_type": "markdown",
   "metadata": {},
   "source": [
    "# Численное решение методом Ньютона \n",
    "\n",
    "В методе Ньютона:\n",
    "\n",
    "$$ x^{(n+1)}= x^{(n)} - \\frac {f(x^{(n)})}{f'(x^{(n)})}\\  $$ \n",
    "$$ f'(x) = e^{x+1}(x+2)-1 $$\n",
    "\n",
    "$$ x^{(0)} = \\frac {a+b}{2} \\ $$\n",
    "\n",
    "Критерий окончания: \n",
    "\n",
    "$$ |x^{(n+1)}-x^{(n)}|<\\varepsilon  $$ "
   ]
  },
  {
   "cell_type": "code",
   "execution_count": 30,
   "metadata": {},
   "outputs": [],
   "source": [
    "def f_1_der(x):\n",
    "    return exp(x+1)*(x+2)-1\n",
    "\n",
    "x_init = (a0+b0)/2"
   ]
  },
  {
   "cell_type": "code",
   "execution_count": 34,
   "metadata": {},
   "outputs": [],
   "source": [
    "def newton(f, f_der,x_init, e):\n",
    "    \"\"\"принимает функцию, ее производную, начальное приближение и заданную точность.\"\"\"\n",
    "    xn=x_init\n",
    "    xn1=xn - f(xn)/f_der(xn) #чтобы сделать первую итерацию \n",
    "    k=1\n",
    "    while(abs(xn1-xn)>e):\n",
    "        xn=xn1\n",
    "        xn1 = xn - f(xn)/f_der(xn)\n",
    "    \n",
    "        k=k+1\n",
    "    \n",
    "    return xn1, k\n",
    "    \n",
    "    \n",
    "    "
   ]
  },
  {
   "cell_type": "code",
   "execution_count": 40,
   "metadata": {},
   "outputs": [
    {
     "name": "stdout",
     "output_type": "stream",
     "text": [
      "x* :  -2.349976485401126\n",
      "число итераций :  3\n"
     ]
    }
   ],
   "source": [
    "x_n_sol, k_iter = newton(f_1, f_1_der, x_init,e1)\n",
    "print(\"x* : \", x_n_sol)\n",
    "print(\"число итераций : \", k_iter)"
   ]
  },
  {
   "cell_type": "markdown",
   "metadata": {},
   "source": [
    "Метод Ньютона выполнил поиск корня с заданной точностью за три итерации,  в то время как для метода бисекции потребовалось 18 итераций.\n",
    "Это объясняется тем, что метод Ньютона имеет квадратичную сходимость, в то время как метод бисекции сходитося со скоростью геометрической прогрессии со знаменателем 1/2. "
   ]
  },
  {
   "cell_type": "markdown",
   "metadata": {},
   "source": [
    "# Задание 3 \n",
    "\n",
    "$$ \\varepsilon = 10^{-5} $$\n",
    " $$ f(x) = (x-1)sh(x+1) -x  $$\n",
    " $$ f'(x) = sh(x+1)+(x-1)ch(x+1)-1 $$ "
   ]
  },
  {
   "cell_type": "code",
   "execution_count": 2,
   "metadata": {},
   "outputs": [],
   "source": [
    "e2= 1e-5\n",
    "def f_2(x):\n",
    "    return (x-1)*sinh(x+1)-x\n",
    "\n",
    "def f_2_der(x):\n",
    "    return sinh(x+1)+(x-1)*cosh(x+1)-1"
   ]
  },
  {
   "cell_type": "markdown",
   "metadata": {},
   "source": [
    "Сначала изобразим график функции, чтобы локализовать корни. "
   ]
  },
  {
   "cell_type": "code",
   "execution_count": 46,
   "metadata": {},
   "outputs": [
    {
     "data": {
      "image/png": "[encoded data removed]",
      "text/plain": [
       "<Figure size 432x288 with 1 Axes>"
      ]
     },
     "metadata": {
      "needs_background": "light"
     },
     "output_type": "display_data"
    }
   ],
   "source": [
    "x_3 = np.linspace(-1.5, 2, 200)\n",
    "y_3= np.zeros( 200)\n",
    "for i in range(len(x_3)):\n",
    "    y_3[i]= f_2(x_3[i])\n",
    "plt.plot(x_3, y_3, '-')\n",
    "plt.plot(x_3, [0 for i in range(len(x_3))], '-')\n",
    "plt.show()"
   ]
  },
  {
   "cell_type": "markdown",
   "metadata": {},
   "source": [
    "По графику видно два корня. За пределами изображенного отрезка корней нет. \n",
    "Выберем следующие отрезки локализации:\n",
    "\n",
    "Для первого корня: [-1.0, -0.5] \n",
    "\n",
    "Для второго корня: [1.0, 1.5]"
   ]
  },
  {
   "cell_type": "markdown",
   "metadata": {},
   "source": [
    "# пункт а \n",
    "\n",
    "$$ \\varphi(x) = x - \\alpha f(x)   $$ \n",
    "$$ \\alpha = \\frac {2}{M+m} \\ $$\n",
    "$$ 0 < m \\leqslant f'(x) \\leqslant M $$ \n",
    "$$ x \\in [a, b] $$ "
   ]
  },
  {
   "cell_type": "code",
   "execution_count": 19,
   "metadata": {},
   "outputs": [],
   "source": [
    "def find_m_M(f_der, a,b):\n",
    "    \"\"\"Возвращает найденные численно минимальное и максимальное значения на заданном отрезке для заданной функции. \"\"\"\n",
    "    x = np.linspace(a, b, 200)\n",
    "    y= np.zeros( 200)\n",
    "    for i in range(len(x)):\n",
    "        y[i]= f_der(x[i])\n",
    "    \n",
    "    M=np.max(y)\n",
    "    m=np.min(y)\n",
    "    return m, M"
   ]
  },
  {
   "cell_type": "code",
   "execution_count": 23,
   "metadata": {},
   "outputs": [],
   "source": [
    "def simple_itarationsa_1(f, f_der, a, b, e):\n",
    "    m, M = find_m_M(f_der, a, b)\n",
    "\n",
    "   \n",
    "    q = (M-m)/(M+m)\n",
    "    print(\"q =\", q)\n",
    "    alpha = 2/(m+M)\n",
    "    x_n = (a+b)/2\n",
    "    x_n_1 = x_n-alpha*f(x_n) # первая итерация\n",
    "    k=1\n",
    "    while(abs(x_n_1-x_n)>(1-q)/q*e):\n",
    "        \n",
    "        x_n=x_n_1\n",
    "        x_n_1 = x_n-alpha*f(x_n)\n",
    "        k=k+1\n",
    "    return x_n_1, k\n",
    " "
   ]
  },
  {
   "cell_type": "markdown",
   "metadata": {},
   "source": [
    "Посмотрим на ситуацию с первым корнем. Для этого посмотрим,какие значения принимает производная функции f на отрезке [-1, 1]. На это отрезке содержится только один рассматриваемый корень "
   ]
  },
  {
   "cell_type": "code",
   "execution_count": 24,
   "metadata": {},
   "outputs": [
    {
     "data": {
      "image/png": "[encoded data removed]",
      "text/plain": [
       "<Figure size 432x288 with 1 Axes>"
      ]
     },
     "metadata": {
      "needs_background": "light"
     },
     "output_type": "display_data"
    }
   ],
   "source": [
    "x_der = np.linspace(-1.0, 1.0, 200)\n",
    "y_der= np.zeros( 200)\n",
    "for i in range(len(x_3)):\n",
    "    y_der[i]= f_2(x_der[i])+2*x_der[i]\n",
    "plt.plot(x_der, y_der, '-')\n",
    "plt.plot(x_der, [0 for i in range(len(x_3))], '-')\n",
    "plt.show()"
   ]
  },
  {
   "cell_type": "markdown",
   "metadata": {},
   "source": [
    "Как видно из графика, производная принмает отрицательные значения в окрестностях искомого корня. Это не удовлетворяет условиям m>0, а следовательно и условиям для  0<q<=1, поэтому нельзя получить результат численного решения с выбранным тождественным преобразованиям. Алгоритм не будет сходиться. \n",
    "\n",
    "Найдем второй корень."
   ]
  },
  {
   "cell_type": "code",
   "execution_count": 25,
   "metadata": {},
   "outputs": [
    {
     "name": "stdout",
     "output_type": "stream",
     "text": [
      "q = 0.5109728845232769\n",
      "x* :  1.2655205893862385\n",
      "число итераций :  4\n"
     ]
    }
   ],
   "source": [
    "x_sol_2, k2 = simple_itarationsa_1(f_2, f_2_der, 1.0, 1.5, e2)\n",
    "print(\"x* : \", x_sol_2)\n",
    "print(\"число итераций : \", k2)"
   ]
  },
  {
   "cell_type": "markdown",
   "metadata": {},
   "source": [
    "Результат найден с соответствующей точностью. "
   ]
  },
  {
   "cell_type": "markdown",
   "metadata": {},
   "source": [
    "# пункт б \n",
    "\n",
    "Рассмотрим сначала следующее преобразование: \n",
    "$$ \\varphi(x) = x+1/10*(x-1)sh(x+1)   $$ \n",
    "$$ \\varphi'(x) = 1/10*( sh(x+1)+ (x-1)*cosh(x+1)+9  ) $$ "
   ]
  },
  {
   "cell_type": "code",
   "execution_count": 51,
   "metadata": {},
   "outputs": [],
   "source": [
    "def simple_itarationsa_2( f_i, f_i_der, a, b, e):\n",
    "   \n",
    "    x = np.linspace(a, b, 200)\n",
    "    y= np.zeros( 200)\n",
    "    for i in range(len(x)):\n",
    "        y[i]= abs(f_i_der(x[i]))\n",
    "    \n",
    "    q=np.max(y)\n",
    "\n",
    "    \n",
    "    print(\"q =\", q)\n",
    "\n",
    "    x_n = (a+b)/2\n",
    "    x_n_1 = f_i(x_n) # первая итерация\n",
    "    k=1\n",
    "    while(abs(x_n_1-x_n)>(1-q)/q*e):\n",
    "        \n",
    "        x_n=x_n_1\n",
    "        x_n_1 = x_n_1 = f_i(x_n)\n",
    "        k=k+1\n",
    "    return x_n_1, k"
   ]
  },
  {
   "cell_type": "code",
   "execution_count": 55,
   "metadata": {},
   "outputs": [],
   "source": [
    "def fi_for_f(x):\n",
    "    return ((x-1)*sinh(x+1)-x)/10+x\n",
    "\n",
    "def fi_der_for_f(x):\n",
    "    return (sinh(x+1)+(x-1)*cosh(x+1)+9)*1/10\n",
    "\n"
   ]
  },
  {
   "cell_type": "code",
   "execution_count": 56,
   "metadata": {},
   "outputs": [
    {
     "data": {
      "image/png": "[encoded data removed]",
      "text/plain": [
       "<Figure size 432x288 with 1 Axes>"
      ]
     },
     "metadata": {
      "needs_background": "light"
     },
     "output_type": "display_data"
    }
   ],
   "source": [
    "x_der_fi = np.linspace(-1.0, -0.5, 200)\n",
    "y_der_fi= np.zeros( 200)\n",
    "for i in range(len(x_3)):\n",
    "    y_der_fi[i]= fi_der_for_f(x_der_fi[i])\n",
    "    \n",
    "plt.title(\"ПРоизводная от выбранного преобразования\")\n",
    "plt.plot(x_der_fi, y_der_fi, '-')\n",
    "plt.plot(x_der_fi, [0 for i in range(len(x_3))], '-')\n",
    "plt.show()"
   ]
  },
  {
   "cell_type": "markdown",
   "metadata": {},
   "source": [
    "На отрезке  [-1.0, -0.5] (это отрезок локализации первого корня) 𝜑(𝑥) принимает значения по модуля больше нуля и меньше единицы. Значит, выполнены условия сходимости метода. "
   ]
  },
  {
   "cell_type": "code",
   "execution_count": 57,
   "metadata": {},
   "outputs": [
    {
     "name": "stdout",
     "output_type": "stream",
     "text": [
      "q = 0.7829656357684176\n",
      "x* :  -0.6244804172233949\n",
      "число итераций :  36\n"
     ]
    }
   ],
   "source": [
    "x_sol_3, k3 = simple_itarationsa_2(fi_for_f, fi_der_for_f, -1.00, -0.5, e2)\n",
    "print(\"x* : \", x_sol_3)\n",
    "print(\"число итераций : \", k3)"
   ]
  },
  {
   "cell_type": "markdown",
   "metadata": {},
   "source": [
    "Первый корень найден.   \n",
    "Выбранное ранее преобразование по подойдет по условиям сходимости метода для второго корня, локализованного на  [1.0, 1.5].\n",
    "\n",
    "Рассмотрим следующее преобразование : \n",
    "$$ \\varphi(x) = x-1/10*(x-1)sh(x+1)   $$ \n",
    "$$ \\varphi'(x) = 1/10*( -sh(x+1)- (x-1)*cosh(x+1)+11  ) $$ "
   ]
  },
  {
   "cell_type": "code",
   "execution_count": 58,
   "metadata": {},
   "outputs": [],
   "source": [
    "def fi_for_f2(x):\n",
    "    return -((x-1)*sinh(x+1)-x)/10+x\n",
    "\n",
    "def fi_der_for_f2(x):\n",
    "    return (-sinh(x+1)-(x-1)*cosh(x+1)+11)*1/10\n",
    "\n"
   ]
  },
  {
   "cell_type": "code",
   "execution_count": 60,
   "metadata": {},
   "outputs": [
    {
     "data": {
      "image/png": "[encoded data removed]",
      "text/plain": [
       "<Figure size 432x288 with 1 Axes>"
      ]
     },
     "metadata": {
      "needs_background": "light"
     },
     "output_type": "display_data"
    }
   ],
   "source": [
    "x_der_fi1 = np.linspace(1.0, 1.5, 200)\n",
    "y_der_fi1= np.zeros( 200)\n",
    "for i in range(len(x_3)):\n",
    "    y_der_fi1[i]= fi_der_for_f2(x_der_fi1[i])\n",
    "    \n",
    "plt.title(\"Производная от выбранного преобразования\")\n",
    "plt.plot(x_der_fi1, y_der_fi1, '-')\n",
    "plt.plot(x_der_fi1, [0 for i in range(len(x_3))], '-')\n",
    "plt.show()"
   ]
  },
  {
   "cell_type": "markdown",
   "metadata": {},
   "source": [
    " 𝜑(𝑥) принимает значения по модуля больше нуля и меньше единицы. Значит, выполнены условия сходимости метода и второй корень будет найден. "
   ]
  },
  {
   "cell_type": "code",
   "execution_count": 62,
   "metadata": {},
   "outputs": [
    {
     "name": "stdout",
     "output_type": "stream",
     "text": [
      "q = 0.7297349133564867\n",
      "x* :  1.2655185415105301\n",
      "число итераций :  12\n"
     ]
    }
   ],
   "source": [
    "x_sol_3, k3 = simple_itarationsa_2(fi_for_f2,  fi_der_for_f2, 1.01, 1.5, e2)\n",
    "print(\"x* : \", x_sol_3)\n",
    "print(\"число итераций : \", k3)"
   ]
  },
  {
   "cell_type": "markdown",
   "metadata": {},
   "source": [
    "Второй корень найден с соответствующей точностью.\n",
    "В пункте а потребовалось 4 итерации для поиска второго корня, в пункте б - 12 итераций. Причина - в пункте б q больше, а значит, метод сходился медленее. \n"
   ]
  },
  {
   "cell_type": "code",
   "execution_count": null,
   "metadata": {},
   "outputs": [],
   "source": []
  },
  {
   "cell_type": "code",
   "execution_count": null,
   "metadata": {
    "scrolled": true
   },
   "outputs": [],
   "source": []
  },
  {
   "cell_type": "code",
   "execution_count": null,
   "metadata": {},
   "outputs": [],
   "source": []
  }
 ],
 "metadata": {
  "kernelspec": {
   "display_name": "Python 3",
   "language": "python",
   "name": "python3"
  },
  "language_info": {
   "codemirror_mode": {
    "name": "ipython",
    "version": 3
   },
   "file_extension": ".py",
   "mimetype": "text/x-python",
   "name": "python",
   "nbconvert_exporter": "python",
   "pygments_lexer": "ipython3",
   "version": "3.7.1"
  }
 },
 "nbformat": 4,
 "nbformat_minor": 2
}
