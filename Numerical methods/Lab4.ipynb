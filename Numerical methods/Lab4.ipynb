{
 "cells": [
  {
   "cell_type": "code",
   "execution_count": 30,
   "metadata": {},
   "outputs": [],
   "source": [
    "from matplotlib import pyplot as plt \n",
    "import numpy as np \n",
    "from math import sin, cos\n",
    "from scipy.optimize import fsolve\n"
   ]
  },
  {
   "cell_type": "markdown",
   "metadata": {},
   "source": [
    "# РЕШЕНИЕ СИСТЕМ НЕЛИНЕЙНЫХ УРАВНЕНИЙ\n",
    "\n",
    "\n",
    "## Вариант 24 \n",
    "\n",
    "Решить следующую систему  с точностью $ \\varepsilon = 10^{-6} $ :\n",
    "$$ f_1(x_1,x_2) = 0 $$\n",
    "$$ f_2(x_1,x_2) = 0 $$\n",
    "\n",
    "В моем варианте: \n",
    "$$ sin(x_1 + x_2) - x1 + 0.1=0 $$\n",
    "$$ x_2 - cos(3x_1) + 0.1=0 $$\n",
    "\n"
   ]
  },
  {
   "cell_type": "markdown",
   "metadata": {},
   "source": [
    "### Локализация корней \n",
    "\n",
    "Локализуем корни графически. \n",
    "Для этого будем использовать спасительные функции матплотлиба contour. \n",
    "Обратим внимание, что функции cos(x), sin(x) могут принимать значения только из отрезка [-1; 1]. На основании этого делаем следующие выводы: \n",
    "$$ x_1 \\in [-0.9; 1.1]$$\n",
    "$$ x_2 \\in [-1.1; 0.9]$$"
   ]
  },
  {
   "cell_type": "code",
   "execution_count": 2,
   "metadata": {},
   "outputs": [],
   "source": [
    "x1 = np.linspace(-0.9, 1.1, 100)\n",
    "x2 = np.linspace(-1.1, 0.9, 100)\n",
    "X1, X2 = np.meshgrid(x1,x2)\n",
    "Z1 = np.sin(X1+X2)-X1+0.1\n",
    "Z2 = X2-np.cos(3*X1)+0.1"
   ]
  },
  {
   "cell_type": "code",
   "execution_count": 3,
   "metadata": {},
   "outputs": [
    {
     "data": {
      "text/plain": [
       "Text(0, 0.5, 'x2')"
      ]
     },
     "execution_count": 3,
     "metadata": {},
     "output_type": "execute_result"
    },
    {
     "data": {
      "image/png": "[encoded data removed]",
      "text/plain": [
       "<Figure size 432x288 with 1 Axes>"
      ]
     },
     "metadata": {
      "needs_background": "light"
     },
     "output_type": "display_data"
    }
   ],
   "source": [
    "plt.contour(X1, X2, Z1,levels=0,cmap = 'gist_heat_r' )\n",
    "plt.contour(X1, X2, Z2, levels = 0,cmap = 'gist_heat_r')\n",
    "plt.xlabel(\"x1\")\n",
    "plt.ylabel(\"x2\")"
   ]
  },
  {
   "cell_type": "markdown",
   "metadata": {},
   "source": [
    "На графике изображены линии уровня функций $f_1(x_1,x_2)$ и $f_2(x_1,x_2)$ со значением ноль. \n",
    "Точки пересечения линий - это решения системы уравнений.\n",
    "По графику видно, что система имеет три решения. \n",
    "Выберем следующие начальные приближения $(x_1,x_2)$:\n",
    "\n",
    "Первый корень: $\\overline{x^{(0)}}   = (-0.8; -1)$\n",
    "\n",
    "Второй корень: $\\overline{x^{(0)}}= (-0.5; -0.25)$\n",
    "\n",
    "Третий корень: $\\overline{x^{(0)}} = (0.55; -0.2)$"
   ]
  },
  {
   "cell_type": "markdown",
   "metadata": {},
   "source": [
    "### Метод Ньютона. \n",
    "В нашем случае дана двумерная задача. \n",
    "\n",
    "Постановка задачи в векторном виде: $\\overline{f}(\\overline{x})=\\overline{0}$, где $\\overline{f} = (f_1, f_2)^T \\in \\mathbb{R}^2 $, $\\overline{x} = (x_1, x_2)^T \\in \\mathbb{R}^2 $\n",
    "\n",
    "Метод Ньютона решения систем нелинейных уравнений  основан на идее линеаризации. Выбирается начальное приближение $\\overline{x^{(0)}}$ и строится линейная аппроксимация. \n",
    "\n",
    "Пусть $\\overline{x}$ - истинное решение системы. \n",
    "Пусть построено приближение для $ \\overline{x^{(k)}}$, k=0,1,2... :\n",
    "\n",
    "$$ f_i(\\overline{x}) \\approx f_i(\\overline{x}^{(k)}) + \\frac{df_i( \\overline{x}^{(k)})}{dx_1}(\\overline{x} -\\overline{x}^{(k)} ) + \\frac{df_i( \\overline{x}^{(k)})}{dx_2}(\\overline{x} -\\overline{x}^{(k)} )=\\overline{0}, \\space i=1,2 $$\n",
    "\n",
    "В матричном виде: \n",
    "$$ \\overline{f}(\\overline{x}^{(k)}) + \\overline{f}'(\\overline{x}^{(k)})(\\overline{x} -\\overline{x}^{(k)})=\\overline{0}$$ \n",
    "где $ \\overline{f}'(\\overline{x}^{(k)}) $ - Матрица Якоби.\n",
    "\n",
    "Положим $ \\overline{x}^{(k+1)}$ вместо $\\overline{x}$:\n",
    "$$ \\overline{f}(\\overline{x}^{(k)}) + \\overline{f}'(\\overline{x}^{(k)})(\\overline{x}^{(k+1)} -\\overline{x}^{(k)})=\\overline{0}$$ \n",
    "\n",
    "\n",
    "\n",
    "$$ \\overline{x}^{(k+1)} = \\overline{x}^{(k)} - (\\overline{f}'(\\overline{x}^{(k)}))^{-1}f(\\overline{x}^{(k)})   $$ \n",
    "\n",
    "\n",
    "Так как поиск   $(\\overline{f}'(\\overline{x}^{(k)}))^{-1}$, обратной матрицы Якоби, - затратная по вычислениям операция вводят $  \\overline{x}^{(k+1)} =  \\overline{x}^{(k)} + \\Delta  \\overline{x}^{(k)}$, на чем и основаны итерации метода Ньютона.\n",
    "$$ \\overline{f}'(\\overline{x}^{(k)}) \\Delta  \\overline{x}^{(k)} = - \\overline{f}(\\overline{x}^{(k)}) \\space \\space \\space(*) $$\n",
    "$\\Delta  \\overline{x}^{(k)}$  является решением системы $(*)$.\n",
    "\n",
    "Метод Ньютона обладает квадратичной сходимостью. \n",
    "Критерий окончания: \n",
    "$$ ||\\overline{x}^{(k+1)}  - \\overline{x}^{(k)}  || < \\varepsilon $$\n",
    "$$ ||\\Delta  \\overline{x}^{(k)} || < \\varepsilon $$"
   ]
  },
  {
   "cell_type": "markdown",
   "metadata": {},
   "source": [
    "Матрица Якоби: \n",
    "\n",
    "$$ \\begin{pmatrix}\n",
    "cos(x_1+x_2)-1 &  cos(x_1+x_2)\\\\\n",
    "3sin(3x_1) & 1 \\end{pmatrix} $$"
   ]
  },
  {
   "cell_type": "markdown",
   "metadata": {},
   "source": [
    "#### Реализация метода Ньютона для двумерного случая. "
   ]
  },
  {
   "cell_type": "code",
   "execution_count": 9,
   "metadata": {},
   "outputs": [],
   "source": [
    "def f(x ):\n",
    "\n",
    "    # возвращает значение вектора f(x) в точке (x1,x2)\n",
    "    \n",
    "    return [sin(x[0]+x[1])-x[0]+0.1, x[1]-cos(3*x[0])+0.1]\n",
    "\n",
    "def jacobi(x):\n",
    "    # возвращает матрицу Якоби в точке (x1,x2) как двумерный массив \n",
    "    return [[cos(x[0]+x[1])-1,cos(x[0]+x[1])  ], [ 3*sin(3*x[0]), 1 ] ]\n",
    "    "
   ]
  },
  {
   "cell_type": "code",
   "execution_count": 31,
   "metadata": {},
   "outputs": [],
   "source": [
    "def newton_method( f, jacobi, x0, eps):\n",
    "    x_k = x0.copy()\n",
    "    A = jacobi(x0)\n",
    "\n",
    "    b = f(x0)\n",
    "    for i in range(len(b)):\n",
    "        b[i]=b[i]*(-1)\n",
    "\n",
    "    x_k_new = np.linalg.solve(A, b) +x_k#сделали первую итерацию \n",
    "    iterations = 1 \n",
    "    while(np.linalg.norm(x_k_new-x_k)>eps):\n",
    "        x_k = x_k_new.copy()\n",
    "        A = jacobi(x_k)\n",
    "\n",
    "        \n",
    "        b =   f(x_k)\n",
    "        for i in range(len(b)):\n",
    "            b[i]=b[i]*(-1)\n",
    "\n",
    "        x_k_new = np.linalg.solve(A, b) + x_k\n",
    "        iterations = iterations+1\n",
    "        \n",
    "    print(\"Число итераций: \", iterations)\n",
    "    return x_k_new"
   ]
  },
  {
   "cell_type": "markdown",
   "metadata": {},
   "source": [
    "#### Поиск корней. \n",
    "\n",
    "##### Первый корень. "
   ]
  },
  {
   "cell_type": "code",
   "execution_count": 32,
   "metadata": {},
   "outputs": [
    {
     "name": "stdout",
     "output_type": "stream",
     "text": [
      "Число итераций:  4\n",
      "Найденное решение алгоритма: \n",
      "-0.8676 -0.9584 \n"
     ]
    }
   ],
   "source": [
    "x1 = newton_method( f, jacobi, [-0.8, -1], 1e-6)\n",
    "print(\"Найденное решение алгоритма: \")\n",
    "print(\"%.4f \"*len(x1) % tuple(x1) )"
   ]
  },
  {
   "cell_type": "code",
   "execution_count": 34,
   "metadata": {},
   "outputs": [
    {
     "name": "stdout",
     "output_type": "stream",
     "text": [
      "Решение, найденное благодаря scipy.optimize.fsolve:\n",
      "-0.8676 -0.9584 \n",
      "Абсолютная погрешность:  7.156909509475895e-10\n"
     ]
    }
   ],
   "source": [
    "x1_scipy  = fsolve(f, [-0.8, -1], xtol=1e-6)\n",
    "print(\"Решение, найденное благодаря scipy.optimize.fsolve:\" )\n",
    "print(\"%.4f \"*len(x1_scipy) % tuple(x1_scipy) )\n",
    "\n",
    "abs_error  =   np.linalg.norm(x1_scipy-x1, np.inf)\n",
    "print(\"Абсолютная погрешность: \", abs_error)"
   ]
  },
  {
   "cell_type": "markdown",
   "metadata": {},
   "source": [
    "#####  Второй корень. "
   ]
  },
  {
   "cell_type": "code",
   "execution_count": 35,
   "metadata": {},
   "outputs": [
    {
     "name": "stdout",
     "output_type": "stream",
     "text": [
      "Число итераций:  4\n",
      "Найденное решение алгоритма: \n",
      "-0.5420 -0.1551 \n"
     ]
    }
   ],
   "source": [
    "x2 = newton_method( f, jacobi, [-0.5, -0.25], 1e-6)\n",
    "print(\"Найденное решение алгоритма: \")\n",
    "print(\"%.4f \"*len(x2) % tuple(x2) )"
   ]
  },
  {
   "cell_type": "code",
   "execution_count": 37,
   "metadata": {},
   "outputs": [
    {
     "name": "stdout",
     "output_type": "stream",
     "text": [
      "Решение, найденное благодаря scipy.optimize.fsolve:\n",
      "-0.5420 -0.1551 \n",
      "Абсолютная погрешность:  5.057565477528669e-12\n"
     ]
    }
   ],
   "source": [
    "x2_scipy  = fsolve(f,  [-0.5, -0.25], xtol=1e-6)\n",
    "print(\"Решение, найденное благодаря scipy.optimize.fsolve:\" )\n",
    "print(\"%.4f \"*len(x2_scipy) % tuple(x2_scipy) )\n",
    "\n",
    "abs_error  =   np.linalg.norm(x2_scipy-x2, np.inf)\n",
    "print(\"Абсолютная погрешность: \", abs_error)"
   ]
  },
  {
   "cell_type": "markdown",
   "metadata": {},
   "source": [
    "#####  Третий корень. "
   ]
  },
  {
   "cell_type": "code",
   "execution_count": 38,
   "metadata": {},
   "outputs": [
    {
     "name": "stdout",
     "output_type": "stream",
     "text": [
      "Число итераций:  3\n",
      "Найденное решение алгоритма: \n",
      "0.5191 -0.0866 \n"
     ]
    }
   ],
   "source": [
    "x3 = newton_method( f, jacobi, [ 0.55, -0.2], 1e-6)\n",
    "print(\"Найденное решение алгоритма: \")\n",
    "print(\"%.4f \"*len(x3) % tuple(x3) )"
   ]
  },
  {
   "cell_type": "code",
   "execution_count": 39,
   "metadata": {},
   "outputs": [
    {
     "name": "stdout",
     "output_type": "stream",
     "text": [
      "Решение, найденное благодаря scipy.optimize.fsolve:\n",
      "0.5191 -0.0866 \n",
      "Абсолютная погрешность:  8.884079583104665e-11\n"
     ]
    }
   ],
   "source": [
    "x3_scipy  = fsolve(f,  [ 0.55, -0.2], xtol=1e-6)\n",
    "print(\"Решение, найденное благодаря scipy.optimize.fsolve:\" )\n",
    "print(\"%.4f \"*len(x3_scipy) % tuple(x3_scipy) )\n",
    "\n",
    "abs_error  =   np.linalg.norm(x3_scipy-x3, np.inf)\n",
    "print(\"Абсолютная погрешность: \", abs_error)"
   ]
  },
  {
   "cell_type": "markdown",
   "metadata": {},
   "source": [
    "Реализованный метод Ньютона позволил вычислить все три корня, выявленные графически. Точность соответствует требуемой. \n",
    "Стоит отметить, что число итераций во всех случаях достаточно маленькое (3-4) итерации, что объясняется квадратичной скоростью сходимости. "
   ]
  },
  {
   "cell_type": "code",
   "execution_count": null,
   "metadata": {},
   "outputs": [],
   "source": []
  },
  {
   "cell_type": "code",
   "execution_count": null,
   "metadata": {},
   "outputs": [],
   "source": []
  },
  {
   "cell_type": "code",
   "execution_count": null,
   "metadata": {},
   "outputs": [],
   "source": []
  }
 ],
 "metadata": {
  "kernelspec": {
   "display_name": "Python 3",
   "language": "python",
   "name": "python3"
  },
  "language_info": {
   "codemirror_mode": {
    "name": "ipython",
    "version": 3
   },
   "file_extension": ".py",
   "mimetype": "text/x-python",
   "name": "python",
   "nbconvert_exporter": "python",
   "pygments_lexer": "ipython3",
   "version": "3.7.3"
  }
 },
 "nbformat": 4,
 "nbformat_minor": 2
}
